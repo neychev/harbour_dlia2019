{
 "cells": [
  {
   "cell_type": "markdown",
   "metadata": {},
   "source": [
    "## Simple text processing and neural networks.\n",
    "This  assigments consists of five parts:\n",
    "\n",
    "1. Simple feature generation for text data (Bag of Words)\n",
    "2. Text classification using generated features and simple neural network.\n",
    "3. Text classsification using more complex features (TF-IDF).\n",
    "4. Text classsification using pretrained word vectors.\n",
    "5. Visualization of pretrained vectors."
   ]
  },
  {
   "cell_type": "code",
   "execution_count": 1,
   "metadata": {},
   "outputs": [],
   "source": [
    "import numpy as np\n",
    "import matplotlib.pyplot as plt\n",
    "%matplotlib inline"
   ]
  },
  {
   "cell_type": "markdown",
   "metadata": {},
   "source": [
    "### Prohibited Comment Classification\n",
    "### Part I: BoW and Logistic Regression\n",
    "*This part of assigment is based on YSDA NLP course materials.*\n",
    "\n",
    "![img](https://github.com/yandexdataschool/nlp_course/raw/master/resources/banhammer.jpg)\n",
    "\n",
    "__In this part__ you will build an algorithm that classifies social media comments into normal or toxic.\n",
    "Like in many real-world cases, you only have a small (10^3) dataset of hand-labeled examples to work with. We'll tackle this problem using both classical nlp methods and embedding-based approach."
   ]
  },
  {
   "cell_type": "code",
   "execution_count": 2,
   "metadata": {},
   "outputs": [
    {
     "data": {
      "text/html": [
       "<div>\n",
       "<style scoped>\n",
       "    .dataframe tbody tr th:only-of-type {\n",
       "        vertical-align: middle;\n",
       "    }\n",
       "\n",
       "    .dataframe tbody tr th {\n",
       "        vertical-align: top;\n",
       "    }\n",
       "\n",
       "    .dataframe thead th {\n",
       "        text-align: right;\n",
       "    }\n",
       "</style>\n",
       "<table border=\"1\" class=\"dataframe\">\n",
       "  <thead>\n",
       "    <tr style=\"text-align: right;\">\n",
       "      <th></th>\n",
       "      <th>should_ban</th>\n",
       "      <th>comment_text</th>\n",
       "    </tr>\n",
       "  </thead>\n",
       "  <tbody>\n",
       "    <tr>\n",
       "      <th>50</th>\n",
       "      <td>0</td>\n",
       "      <td>\"Those who're in advantageous positions are th...</td>\n",
       "    </tr>\n",
       "    <tr>\n",
       "      <th>250</th>\n",
       "      <td>1</td>\n",
       "      <td>Fartsalot56 says f**k you motherclucker!!</td>\n",
       "    </tr>\n",
       "    <tr>\n",
       "      <th>450</th>\n",
       "      <td>1</td>\n",
       "      <td>Are you a fool? \\n\\nI am sorry, but you seem t...</td>\n",
       "    </tr>\n",
       "    <tr>\n",
       "      <th>650</th>\n",
       "      <td>1</td>\n",
       "      <td>I AM NOT A VANDAL!!!!!!!!!!!!!!!!!!!!!!!!!!!!!!</td>\n",
       "    </tr>\n",
       "    <tr>\n",
       "      <th>850</th>\n",
       "      <td>0</td>\n",
       "      <td>Citing sources\\n\\nCheck out the Wikipedia:Citi...</td>\n",
       "    </tr>\n",
       "  </tbody>\n",
       "</table>\n",
       "</div>"
      ],
      "text/plain": [
       "     should_ban                                       comment_text\n",
       "50            0  \"Those who're in advantageous positions are th...\n",
       "250           1          Fartsalot56 says f**k you motherclucker!!\n",
       "450           1  Are you a fool? \\n\\nI am sorry, but you seem t...\n",
       "650           1    I AM NOT A VANDAL!!!!!!!!!!!!!!!!!!!!!!!!!!!!!!\n",
       "850           0  Citing sources\\n\\nCheck out the Wikipedia:Citi..."
      ]
     },
     "execution_count": 2,
     "metadata": {},
     "output_type": "execute_result"
    }
   ],
   "source": [
    "import pandas as pd\n",
    "data = pd.read_csv(\"comments.tsv\", sep='\\t')\n",
    "\n",
    "texts = data['comment_text'].values\n",
    "target = data['should_ban'].values\n",
    "data[50::200]"
   ]
  },
  {
   "cell_type": "code",
   "execution_count": 3,
   "metadata": {},
   "outputs": [],
   "source": [
    "from sklearn.model_selection import train_test_split\n",
    "texts_train, texts_test, y_train, y_test = train_test_split(texts, target, test_size=0.5, random_state=42)"
   ]
  },
  {
   "cell_type": "markdown",
   "metadata": {},
   "source": [
    "__Note:__ it is generally a good idea to split data into train/test before anything is done to them.\n",
    "\n",
    "It guards you against possible data leakage in the preprocessing stage. For example, should you decide to select words present in obscene tweets as features, you should only count those words over the training set. Otherwise your algoritm can cheat evaluation."
   ]
  },
  {
   "cell_type": "markdown",
   "metadata": {},
   "source": [
    "### Preprocessing and tokenization\n",
    "\n",
    "Comments contain raw text with punctuation, upper/lowercase letters and even newline symbols.\n",
    "\n",
    "To simplify all further steps, we'll split text into space-separated tokens using one of nltk tokenizers.\n",
    "\n",
    "Generally, library `nltk` [link](https://www.nltk.org) is widely used in NLP. It is not necessary in here, but mentioned to intoduce it to you."
   ]
  },
  {
   "cell_type": "code",
   "execution_count": 4,
   "metadata": {},
   "outputs": [
    {
     "name": "stdout",
     "output_type": "stream",
     "text": [
      "before: How to be a grown-up at work: replace \"I don't want to do that\" with \"Ok, great!\".\n",
      "after: how to be a grown-up at work : replace \" i don't want to do that \" with \" ok , great ! \" .\n"
     ]
    }
   ],
   "source": [
    "from nltk.tokenize import TweetTokenizer\n",
    "tokenizer = TweetTokenizer()\n",
    "preprocess = lambda text: ' '.join(tokenizer.tokenize(text.lower()))\n",
    "\n",
    "text = 'How to be a grown-up at work: replace \"I don\\'t want to do that\" with \"Ok, great!\".'\n",
    "print(\"before:\", text,)\n",
    "print(\"after:\", preprocess(text),)"
   ]
  },
  {
   "cell_type": "code",
   "execution_count": 5,
   "metadata": {},
   "outputs": [],
   "source": [
    "# task: preprocess each comment in train and test\n",
    "\n",
    "texts_train = #<YOUR CODE>\n",
    "texts_test = #<YOUR CODE>"
   ]
  },
  {
   "cell_type": "code",
   "execution_count": 6,
   "metadata": {},
   "outputs": [],
   "source": [
    "# Small check that everything is done properly\n",
    "assert texts_train[5] ==  'who cares anymore . they attack with impunity .'\n",
    "assert texts_test[89] == 'hey todds ! quick q ? why are you so gay'\n",
    "assert len(texts_test) == len(y_test)"
   ]
  },
  {
   "cell_type": "markdown",
   "metadata": {},
   "source": [
    "### Solving it: bag of words\n",
    "\n",
    "![img](http://www.novuslight.com/uploads/n/BagofWords.jpg)\n",
    "\n",
    "One traditional approach to such problem is to use bag of words features:\n",
    "1. build a vocabulary of frequent words (use train data only)\n",
    "2. for each training sample, count the number of times a word occurs in it (for each word in vocabulary).\n",
    "3. consider this count a feature for some classifier\n",
    "\n",
    "__Note:__ in practice, you can compute such features using sklearn. __Please don't do that in the current assignment, though.__\n",
    "* `from sklearn.feature_extraction.text import CountVectorizer, TfidfVectorizer`"
   ]
  },
  {
   "cell_type": "code",
   "execution_count": 7,
   "metadata": {},
   "outputs": [
    {
     "name": "stdout",
     "output_type": "stream",
     "text": [
      "example features: ['!', '12:20', '300', '_', 'adorned', 'alternative', 'archive', 'average', 'benkner', 'bout', 'came', 'chest', 'combined', 'consumers', 'cricket', 'decisions', 'dickheads', 'domestic', 'eductaion', 'essentially', 'faggot', 'firms', 'frustrated', 'goal', 'hanibal', 'hip-hop', 'identified', 'infoboxes', 'issue', 'kindergarten', 'lets', 'lot', \"mclaren's\", 'moderator', 'naturally', 'noticeable', 'opposing', 'pdf', 'plant', 'pretoria', 'punctuation', 'rebels', 'repetative', 'riadh', 'schulz', 'shes', 'slit', 'spoof', 'stupid', 't', 'theoretical', 'topic', 'uglyness', 'userspace', 'wanted', 'wikieditor', 'year', 'ீ']\n"
     ]
    }
   ],
   "source": [
    "# task: find up to k most frequent tokens in texts_train,\n",
    "# sort them by number of occurences (highest first)\n",
    "k = min(10000, len(set(' '.join(texts_train).split())))\n",
    "\n",
    "from collections import Counter\n",
    "all_texts = \" \".join(texts_train).split()\n",
    "#<YOUR CODE>\n",
    "\n",
    "bow_vocabulary = #<YOUR CODE>\n",
    "\n",
    "print('example features:', sorted(bow_vocabulary)[::100])\n",
    "\n",
    "token_to_idx = {token: idx for idx, token in enumerate(bow_vocabulary)}"
   ]
  },
  {
   "cell_type": "code",
   "execution_count": 8,
   "metadata": {},
   "outputs": [],
   "source": [
    "def text_to_bow(text):\n",
    "    \"\"\" convert text string to an array of token counts. Use bow_vocabulary. \"\"\"\n",
    "    #<YOUR CODE>\n",
    "    \n",
    "    #return np.array(<...>, 'float32')"
   ]
  },
  {
   "cell_type": "code",
   "execution_count": 9,
   "metadata": {},
   "outputs": [],
   "source": [
    "X_train_bow = np.stack(list(map(text_to_bow, texts_train)))\n",
    "X_test_bow = np.stack(list(map(text_to_bow, texts_test)))"
   ]
  },
  {
   "cell_type": "code",
   "execution_count": 10,
   "metadata": {},
   "outputs": [],
   "source": [
    "# Small check that everything is done properly\n",
    "k_max = len(set(' '.join(texts_train).split()))\n",
    "assert X_train_bow.shape == (len(texts_train), min(k, k_max))\n",
    "assert X_test_bow.shape == (len(texts_test), min(k, k_max))\n",
    "assert np.all(X_train_bow[5:10].sum(-1) == np.array([len(s.split()) for s in  texts_train[5:10]]))\n",
    "assert len(bow_vocabulary) <= min(k, k_max)\n",
    "assert X_train_bow[6, bow_vocabulary.index('.')] == texts_train[6].split().count('.')"
   ]
  },
  {
   "cell_type": "markdown",
   "metadata": {},
   "source": [
    "Let's train simple logistic regression and look at accuracy and ROC-AUC score. The function below plots the model ROC curve (generally, it's bad idea to use outer scope variables, but now we just want to save some space)."
   ]
  },
  {
   "cell_type": "code",
   "execution_count": 11,
   "metadata": {},
   "outputs": [],
   "source": [
    "from sklearn.metrics import roc_auc_score, roc_curve\n",
    "def get_roc_auc(model, plot_title, X_train, y_train, X_test, y_test, pytorch=False):\n",
    "    plt.figure()\n",
    "    for name, X, y in [\n",
    "        ('train', X_train, y_train),\n",
    "        ('test ', X_test, y_test)\n",
    "    ]:\n",
    "        if pytorch:\n",
    "            proba = np.array(model(torch.Tensor(X))[:, -1].detach())\n",
    "        else:\n",
    "            proba = model.predict_proba(X)[:, -1]\n",
    "        auc = roc_auc_score(y, proba)\n",
    "        plt.plot(*roc_curve(y, proba)[:2], label='%s AUC=%.4f' % (name, auc))\n",
    "\n",
    "    plt.plot([0, 1], [0, 1], '--', color='black',)\n",
    "    plt.legend(fontsize='large')\n",
    "    plt.title(plot_title)\n",
    "    plt.grid()"
   ]
  },
  {
   "cell_type": "code",
   "execution_count": 12,
   "metadata": {},
   "outputs": [
    {
     "name": "stderr",
     "output_type": "stream",
     "text": [
      "/Users/nexes/miniconda3/envs/py3_research/lib/python3.6/site-packages/sklearn/linear_model/logistic.py:433: FutureWarning: Default solver will be changed to 'lbfgs' in 0.22. Specify a solver to silence this warning.\n",
      "  FutureWarning)\n"
     ]
    }
   ],
   "source": [
    "from sklearn.linear_model import LogisticRegression\n",
    "bow_model = # <YOUR CODE>"
   ]
  },
  {
   "cell_type": "code",
   "execution_count": 13,
   "metadata": {},
   "outputs": [
    {
     "data": {
      "image/png": "[encoded data removed]",
      "text/plain": [
       "<Figure size 432x288 with 1 Axes>"
      ]
     },
     "metadata": {},
     "output_type": "display_data"
    }
   ],
   "source": [
    "get_roc_auc(bow_model, 'BoW and logistic regression', X_train_bow, y_train, X_test_bow, y_test)"
   ]
  },
  {
   "cell_type": "markdown",
   "metadata": {},
   "source": [
    "Try to vary the number of tokens `k` and check how the model performance changes. Show it on a plot."
   ]
  },
  {
   "cell_type": "markdown",
   "metadata": {},
   "source": [
    "#### Part II: Simple neural network using PyTorch.\n",
    "Let's build very simple neural network and compare it to the sklearn Logistic Regression."
   ]
  },
  {
   "cell_type": "code",
   "execution_count": 14,
   "metadata": {},
   "outputs": [
    {
     "name": "stdout",
     "output_type": "stream",
     "text": [
      "sys.version_info(major=3, minor=6, micro=7, releaselevel='final', serial=0)\n",
      "1.1.0.post2\n"
     ]
    }
   ],
   "source": [
    "import sys\n",
    "print(sys.version_info)\n",
    "\n",
    "import torch\n",
    "print(torch.__version__)\n",
    "import numpy as np"
   ]
  },
  {
   "cell_type": "code",
   "execution_count": 15,
   "metadata": {},
   "outputs": [],
   "source": [
    "from torch import nn"
   ]
  },
  {
   "cell_type": "code",
   "execution_count": 16,
   "metadata": {},
   "outputs": [
    {
     "data": {
      "text/plain": [
       "(500, 5722)"
      ]
     },
     "execution_count": 16,
     "metadata": {},
     "output_type": "execute_result"
    }
   ],
   "source": [
    "X_test_bow.shape"
   ]
  },
  {
   "cell_type": "code",
   "execution_count": 17,
   "metadata": {},
   "outputs": [],
   "source": [
    "# create a network that stacks layers on top of each other\n",
    "model = nn.Sequential()\n",
    "\n",
    "# Add the only layer for logistic regression\n",
    "# <YOUR CODE>\n",
    "\n",
    "\n",
    "# add sigmoid activation for probability\n",
    "# note: layer names must be unique\n",
    "# <YOUR CODE>"
   ]
  },
  {
   "cell_type": "code",
   "execution_count": 18,
   "metadata": {},
   "outputs": [
    {
     "data": {
      "text/plain": [
       "tensor([0.5027, 0.4862, 0.4927], grad_fn=<SelectBackward>)"
      ]
     },
     "execution_count": 18,
     "metadata": {},
     "output_type": "execute_result"
    }
   ],
   "source": [
    "# create dummy data with 3 samples\n",
    "x = torch.tensor(X_train_bow[:3], dtype=torch.float32)\n",
    "y = torch.tensor(y_train[:3], dtype=torch.float32)\n",
    "\n",
    "# compute outputs given inputs, both are variables\n",
    "y_predicted = model(x)[:, 0]\n",
    "\n",
    "y_predicted # display what we've got"
   ]
  },
  {
   "cell_type": "code",
   "execution_count": 21,
   "metadata": {},
   "outputs": [],
   "source": [
    "crossentropy = nn.functional.binary_cross_entropy(y_predicted, y, reduction='none')\n",
    "\n",
    "loss = crossentropy.mean(dim=0, keepdim=True)\n",
    "\n",
    "assert tuple(crossentropy.size()) == (3,), \"Crossentropy must be a vector with element per sample\"\n",
    "assert tuple(loss.size()) == (1,), \"Loss must be scalar. Did you forget the mean/sum?\"\n",
    "assert loss.data.numpy()[0] > 0, \"Crossentropy must non-negative, zero only for perfect prediction\"\n",
    "assert loss.data.numpy()[0] <= np.log(3), \"Loss is too large even for untrained model. Please double-check it.\""
   ]
  },
  {
   "cell_type": "code",
   "execution_count": 25,
   "metadata": {},
   "outputs": [],
   "source": [
    "opt = torch.optim.Adam(model.parameters(), lr=0.01)\n"
   ]
  },
  {
   "cell_type": "code",
   "execution_count": 26,
   "metadata": {},
   "outputs": [
    {
     "name": "stdout",
     "output_type": "stream",
     "text": [
      "step #0 | mean loss = 0.677\n",
      "step #10 | mean loss = 0.541\n",
      "step #20 | mean loss = 0.401\n",
      "step #30 | mean loss = 0.298\n",
      "step #40 | mean loss = 0.245\n",
      "step #50 | mean loss = 0.206\n",
      "step #60 | mean loss = 0.173\n",
      "step #70 | mean loss = 0.155\n",
      "step #80 | mean loss = 0.137\n",
      "step #90 | mean loss = 0.126\n"
     ]
    }
   ],
   "source": [
    "history = []\n",
    "\n",
    "for i in range(100):\n",
    "    \n",
    "    ix = np.random.randint(0, len(X_train_bow), 64)\n",
    "    x_batch = torch.tensor(X_train_bow[ix], dtype=torch.float32)\n",
    "    y_batch = torch.tensor(y_train[ix], dtype=torch.float32)\n",
    "    \n",
    "    # predict probabilities\n",
    "    ### YOUR CODE\n",
    "    \n",
    "    assert y_predicted.dim() == 1, \"did you forget to select first column with [:, 0]\"\n",
    "    \n",
    "    # compute loss, just like before\n",
    "    ### YOUR CODE\n",
    "    \n",
    "    loss.backward()      # add new gradients\n",
    "    opt.step()           # change weights\n",
    "    opt.zero_grad()      # clear gradients\n",
    "    \n",
    "    history.append(loss.data.numpy())\n",
    "    \n",
    "    if i % 10 == 0:\n",
    "        print(\"step #%i | mean loss = %.3f\" % (i, np.mean(history[-10:])))"
   ]
  },
  {
   "cell_type": "code",
   "execution_count": 27,
   "metadata": {},
   "outputs": [
    {
     "ename": "AssertionError",
     "evalue": "please predict class indexes",
     "output_type": "error",
     "traceback": [
      "\u001b[0;31m---------------------------------------------------------------------------\u001b[0m",
      "\u001b[0;31mAssertionError\u001b[0m                            Traceback (most recent call last)",
      "\u001b[0;32m<ipython-input-27-8568112f87e6>\u001b[0m in \u001b[0;36m<module>\u001b[0;34m()\u001b[0m\n\u001b[1;32m      5\u001b[0m \u001b[0;32massert\u001b[0m \u001b[0misinstance\u001b[0m\u001b[0;34m(\u001b[0m\u001b[0mpredicted_y_test\u001b[0m\u001b[0;34m,\u001b[0m \u001b[0mnp\u001b[0m\u001b[0;34m.\u001b[0m\u001b[0mndarray\u001b[0m\u001b[0;34m)\u001b[0m\u001b[0;34m,\u001b[0m \u001b[0;34m\"please return np array, not %s\"\u001b[0m \u001b[0;34m%\u001b[0m \u001b[0mtype\u001b[0m\u001b[0;34m(\u001b[0m\u001b[0mpredicted_y_test\u001b[0m\u001b[0;34m)\u001b[0m\u001b[0;34m\u001b[0m\u001b[0;34m\u001b[0m\u001b[0m\n\u001b[1;32m      6\u001b[0m \u001b[0;32massert\u001b[0m \u001b[0mpredicted_y_test\u001b[0m\u001b[0;34m.\u001b[0m\u001b[0mshape\u001b[0m \u001b[0;34m==\u001b[0m \u001b[0my_test\u001b[0m\u001b[0;34m.\u001b[0m\u001b[0mshape\u001b[0m\u001b[0;34m,\u001b[0m \u001b[0;34m\"please predict one class for each test sample\"\u001b[0m\u001b[0;34m\u001b[0m\u001b[0;34m\u001b[0m\u001b[0m\n\u001b[0;32m----> 7\u001b[0;31m \u001b[0;32massert\u001b[0m \u001b[0mnp\u001b[0m\u001b[0;34m.\u001b[0m\u001b[0min1d\u001b[0m\u001b[0;34m(\u001b[0m\u001b[0mpredicted_y_test\u001b[0m\u001b[0;34m,\u001b[0m \u001b[0my_test\u001b[0m\u001b[0;34m)\u001b[0m\u001b[0;34m.\u001b[0m\u001b[0mall\u001b[0m\u001b[0;34m(\u001b[0m\u001b[0;34m)\u001b[0m\u001b[0;34m,\u001b[0m \u001b[0;34m\"please predict class indexes\"\u001b[0m\u001b[0;34m\u001b[0m\u001b[0;34m\u001b[0m\u001b[0m\n\u001b[0m\u001b[1;32m      8\u001b[0m \u001b[0;34m\u001b[0m\u001b[0m\n\u001b[1;32m      9\u001b[0m \u001b[0maccuracy\u001b[0m \u001b[0;34m=\u001b[0m \u001b[0mnp\u001b[0m\u001b[0;34m.\u001b[0m\u001b[0mmean\u001b[0m\u001b[0;34m(\u001b[0m\u001b[0mpredicted_y_test\u001b[0m \u001b[0;34m==\u001b[0m \u001b[0my_test\u001b[0m\u001b[0;34m)\u001b[0m\u001b[0;34m\u001b[0m\u001b[0;34m\u001b[0m\u001b[0m\n",
      "\u001b[0;31mAssertionError\u001b[0m: please predict class indexes"
     ]
    }
   ],
   "source": [
    "# use your model to predict classes (0 or 1) for all test samples\n",
    "predicted_y_test = model(torch.tensor(X_test_bow, dtype=torch.float32))[:, 0]\n",
    "predicted_y_test = np.array(predicted_y_test.detach())# > 0.5)\n",
    "         \n",
    "assert isinstance(predicted_y_test, np.ndarray), \"please return np array, not %s\" % type(predicted_y_test)\n",
    "assert predicted_y_test.shape == y_test.shape, \"please predict one class for each test sample\"\n",
    "\n",
    "accuracy = np.mean(predicted_y_test == (y_test>0.5))\n",
    "\n",
    "print(\"Test accuracy: %.5f\" % accuracy)\n",
    "assert accuracy > 0.95, \"try training longer\"\n",
    "\n",
    "print('Great job!')"
   ]
  },
  {
   "cell_type": "code",
   "execution_count": 28,
   "metadata": {},
   "outputs": [
    {
     "data": {
      "image/png": "[encoded data removed]",
      "text/plain": [
       "<Figure size 432x288 with 1 Axes>"
      ]
     },
     "metadata": {},
     "output_type": "display_data"
    }
   ],
   "source": [
    "get_roc_auc(model, 'BoW and Neural Network (LR)', X_train_tfidf, y_train, X_test_tfidf, y_test, pytorch=True)"
   ]
  },
  {
   "cell_type": "markdown",
   "metadata": {},
   "source": [
    "What's the difference? Try to build something more complex than Logistic Regression (if you haven't already)."
   ]
  },
  {
   "cell_type": "code",
   "execution_count": 29,
   "metadata": {},
   "outputs": [],
   "source": [
    "# Your beautiful code here"
   ]
  },
  {
   "cell_type": "markdown",
   "metadata": {},
   "source": [
    "### For the brave ones, Part III: implement TF-IDF features\n"
   ]
  },
  {
   "cell_type": "markdown",
   "metadata": {},
   "source": [
    "\n",
    "Not all words are equally useful. One can prioritize rare words and downscale words like \"and\"/\"or\" by using __tf-idf features__. This abbreviation stands for __text frequency/inverse document frequence__ and means exactly that:\n",
    "\n",
    "$$ feature_i = { Count(word_i \\in x) \\times { log {N \\over Count(word_i \\in D) + \\alpha} }}, $$\n",
    "\n",
    "\n",
    "where x is a single text, D is your dataset (a collection of texts), N is a total number of documents and $\\alpha$ is a smoothing hyperparameter (typically 1). \n",
    "And $Count(word_i \\in D)$ is the number of documents where $word_i$ appears.\n",
    "\n",
    "It may also be a good idea to normalize each data sample after computing tf-idf features.\n",
    "\n",
    "__Your task:__ implement tf-idf features, train a model and evaluate ROC curve. Compare it with basic BagOfWords model from above.\n",
    "\n",
    "__If you are out of time, try to use sklearn/nltk builtin tf-idf vectorizers in your solution :)__ Otherwise you can still use 'em for debugging though."
   ]
  },
  {
   "cell_type": "code",
   "execution_count": 32,
   "metadata": {},
   "outputs": [],
   "source": [
    "from sklearn.preprocessing import StandardScaler\n",
    "\n",
    "# <YOUR CODE HERE>\n"
   ]
  },
  {
   "cell_type": "code",
   "execution_count": 33,
   "metadata": {},
   "outputs": [
    {
     "name": "stderr",
     "output_type": "stream",
     "text": [
      "/Users/nexes/miniconda3/envs/py3_research/lib/python3.6/site-packages/sklearn/linear_model/logistic.py:433: FutureWarning: Default solver will be changed to 'lbfgs' in 0.22. Specify a solver to silence this warning.\n",
      "  FutureWarning)\n"
     ]
    }
   ],
   "source": [
    "tfidf_model = LogisticRegression().fit(X_train_tfidf, y_train)\n"
   ]
  },
  {
   "cell_type": "code",
   "execution_count": 78,
   "metadata": {},
   "outputs": [
    {
     "data": {
      "image/png": "[encoded data removed]",
      "text/plain": [
       "<Figure size 432x288 with 1 Axes>"
      ]
     },
     "metadata": {},
     "output_type": "display_data"
    }
   ],
   "source": [
    "from sklearn.metrics import roc_auc_score, roc_curve\n",
    "\n",
    "for name, X, y, model in [\n",
    "    ('bow train', X_train_bow, y_train, bow_model),\n",
    "    ('bow test ', X_test_bow, y_test, bow_model),\n",
    "    ('tfidf train', X_train_tfidf, y_train, tfidf_model),\n",
    "    ('tfidf test ', X_test_tfidf, y_test, tfidf_model),\n",
    "]:\n",
    "    proba = model.predict_proba(X)[:, 1]\n",
    "    auc = roc_auc_score(y, proba)\n",
    "    plt.plot(*roc_curve(y, proba)[:2], label='%s AUC=%.4f' % (name, auc))\n",
    "\n",
    "plt.plot([0, 1], [0, 1], '--', color='black',)\n",
    "plt.legend(fontsize='large')\n",
    "plt.grid()"
   ]
  },
  {
   "cell_type": "markdown",
   "metadata": {},
   "source": [
    "Blog post about implementing the TF-IDF features from scratch: https://triton.ml/blog/tf-idf-from-scratch"
   ]
  },
  {
   "cell_type": "markdown",
   "metadata": {},
   "source": [
    "### Part IV: Solving it better: word vectors\n",
    "\n",
    "Let's try another approach: instead of counting per-word frequencies, we shall map all words to pre-trained word vectors and average over them to get text features.\n",
    "\n",
    "This should give us two key advantages: (1) we now have 10^2 features instead of 10^4 and (2) our model can generalize to word that are not in training dataset.\n",
    "\n",
    "We begin with a standard approach with pre-trained word vectors. However, you may also try\n",
    "* training embeddings from scratch on relevant (unlabeled) data\n",
    "* multiplying word vectors by inverse word frequency in dataset (like tf-idf).\n",
    "* concatenating several embeddings\n",
    "    * call `gensim.downloader.info()['models'].keys()` to get a list of available models\n",
    "* clusterizing words by their word-vectors and try bag of cluster_ids\n",
    "\n",
    "__Note:__ loading pre-trained model may take a while. It's a perfect opportunity to refill your cup of tea/coffee and grab some extra cookies. Or binge-watch some tv series if you're slow on internet connection"
   ]
  },
  {
   "cell_type": "code",
   "execution_count": 97,
   "metadata": {},
   "outputs": [
    {
     "name": "stdout",
     "output_type": "stream",
     "text": [
      "[==================================================] 100.0% 958.5/958.4MB downloaded\n"
     ]
    },
    {
     "name": "stderr",
     "output_type": "stream",
     "text": [
      "/Users/nexes/miniconda3/envs/py3_research/lib/python3.6/site-packages/smart_open/smart_open_lib.py:398: UserWarning: This function is deprecated, use smart_open.open instead. See the migration notes for details: https://github.com/RaRe-Technologies/smart_open/blob/master/README.rst#migrating-to-the-new-open-function\n",
      "  'See the migration notes for details: %s' % _MIGRATION_NOTES_URL\n"
     ]
    }
   ],
   "source": [
    "import gensim.downloader \n",
    "embeddings = gensim.downloader.load(\"fasttext-wiki-news-subwords-300\")\n",
    "\n",
    "# If you're low on RAM or download speed, use \"glove-wiki-gigaword-100\" instead. Ignore all further asserts. \n",
    "# Warning: \"glove-wiki-gigaword-100\" usually show results ~ similar to TF-iDF on this corpus, it's fine."
   ]
  },
  {
   "cell_type": "code",
   "execution_count": 99,
   "metadata": {},
   "outputs": [],
   "source": [
    "def vectorize_sum(comment):\n",
    "    \"\"\"\n",
    "    implement a function that converts preprocessed comment to a sum of token vectors\n",
    "    \"\"\"\n",
    "    embedding_dim = embeddings.vectors.shape[1]\n",
    "    features = np.zeros([embedding_dim], dtype='float32')\n",
    "    features[:] = np.sum([embeddings[word] for word in comment.split() if word in embeddings], axis=0)\n",
    "    \n",
    "    return features\n",
    "\n",
    "assert np.allclose(\n",
    "    vectorize_sum(\"who cares anymore . they attack with impunity .\")[::70],\n",
    "    np.array([ 0.0108616 ,  0.0261663 ,  0.13855131, -0.18510573, -0.46380025])\n",
    ")"
   ]
  },
  {
   "cell_type": "code",
   "execution_count": 100,
   "metadata": {},
   "outputs": [],
   "source": [
    "X_train_wv = np.stack([vectorize_sum(text) for text in texts_train])\n",
    "X_test_wv = np.stack([vectorize_sum(text) for text in texts_test])"
   ]
  },
  {
   "cell_type": "code",
   "execution_count": 101,
   "metadata": {},
   "outputs": [
    {
     "name": "stderr",
     "output_type": "stream",
     "text": [
      "/Users/nexes/miniconda3/envs/py3_research/lib/python3.6/site-packages/sklearn/linear_model/logistic.py:433: FutureWarning: Default solver will be changed to 'lbfgs' in 0.22. Specify a solver to silence this warning.\n",
      "  FutureWarning)\n"
     ]
    },
    {
     "data": {
      "text/plain": [
       "0.929351936786881"
      ]
     },
     "execution_count": 101,
     "metadata": {},
     "output_type": "execute_result"
    },
    {
     "data": {
      "image/png": "[encoded data removed]",
      "text/plain": [
       "<Figure size 432x288 with 1 Axes>"
      ]
     },
     "metadata": {},
     "output_type": "display_data"
    }
   ],
   "source": [
    "wv_model = LogisticRegression().fit(X_train_wv, y_train)\n",
    "\n",
    "for name, X, y, model in [\n",
    "    ('bow train', X_train_bow, y_train, bow_model),\n",
    "    ('bow test ', X_test_bow, y_test, bow_model),\n",
    "    ('vec train', X_train_wv, y_train, wv_model),\n",
    "    ('vec test ', X_test_wv, y_test, wv_model),\n",
    "    ('tfidf train', X_train_tfidf, y_train, tfidf_model),\n",
    "    ('tfidf test ', X_test_tfidf, y_test, tfidf_model),\n",
    "]:\n",
    "    proba = model.predict_proba(X)[:, 1]\n",
    "    auc = roc_auc_score(y, proba)\n",
    "    plt.plot(*roc_curve(y, proba)[:2], label='%s AUC=%.4f' % (name, auc))\n",
    "\n",
    "plt.plot([0, 1], [0, 1], '--', color='black',)\n",
    "plt.legend(fontsize='large')\n",
    "plt.grid()\n",
    "\n",
    "roc_auc_score(y_test, wv_model.predict_proba(X_test_wv)[:, 1])"
   ]
  },
  {
   "cell_type": "code",
   "execution_count": 102,
   "metadata": {},
   "outputs": [],
   "source": [
    "# Your beautiful code here"
   ]
  },
  {
   "cell_type": "markdown",
   "metadata": {},
   "source": [
    "### Part V: Visualizing word vectors."
   ]
  },
  {
   "cell_type": "code",
   "execution_count": 103,
   "metadata": {},
   "outputs": [
    {
     "data": {
      "text/plain": [
       "[('coders', 0.54557204246521),\n",
       " ('moneyman', 0.5144726037979126),\n",
       " ('money-', 0.5120781660079956),\n",
       " ('mone', 0.48399990797042847),\n",
       " ('money--', 0.4752413034439087),\n",
       " ('code', 0.4714774489402771),\n",
       " ('moneymen', 0.4712296426296234),\n",
       " ('money.', 0.47117751836776733),\n",
       " ('moneywise', 0.4707126021385193),\n",
       " ('money--and', 0.46807125210762024)]"
      ]
     },
     "execution_count": 103,
     "metadata": {},
     "output_type": "execute_result"
    }
   ],
   "source": [
    "embeddings.most_similar(positive=[\"coder\", \"money\"], negative=[\"brain\"])"
   ]
  },
  {
   "cell_type": "code",
   "execution_count": 104,
   "metadata": {},
   "outputs": [
    {
     "name": "stdout",
     "output_type": "stream",
     "text": [
      "[',', 'than', 'last', 'find', 'building', 'provided', 'region', 'adding', 'young', 'developed']\n"
     ]
    }
   ],
   "source": [
    "words = sorted(embeddings.vocab.keys(), \n",
    "               key=lambda word: embeddings.vocab[word].count,\n",
    "               reverse=True)[:1000]\n",
    "\n",
    "print(words[::100])"
   ]
  },
  {
   "cell_type": "code",
   "execution_count": 105,
   "metadata": {},
   "outputs": [],
   "source": [
    "word_vectors = embeddings[words]"
   ]
  },
  {
   "cell_type": "code",
   "execution_count": 106,
   "metadata": {},
   "outputs": [
    {
     "name": "stdout",
     "output_type": "stream",
     "text": [
      "[t-SNE] Computing 91 nearest neighbors...\n",
      "[t-SNE] Indexed 1000 samples in 0.007s...\n",
      "[t-SNE] Computed neighbors for 1000 samples in 0.668s...\n",
      "[t-SNE] Computed conditional probabilities for sample 1000 / 1000\n",
      "[t-SNE] Mean sigma: 0.274060\n",
      "[t-SNE] Computed conditional probabilities in 0.030s\n",
      "[t-SNE] Iteration 50: error = 80.0148773, gradient norm = 0.2950084 (50 iterations in 11.658s)\n",
      "[t-SNE] Iteration 100: error = 79.8979568, gradient norm = 0.3011067 (50 iterations in 4.408s)\n",
      "[t-SNE] Iteration 150: error = 83.1839218, gradient norm = 0.2837323 (50 iterations in 4.243s)\n",
      "[t-SNE] Iteration 200: error = 82.7045364, gradient norm = 0.2725400 (50 iterations in 3.867s)\n",
      "[t-SNE] Iteration 250: error = 81.5591507, gradient norm = 0.2700786 (50 iterations in 3.925s)\n",
      "[t-SNE] KL divergence after 250 iterations with early exaggeration: 81.559151\n",
      "[t-SNE] Iteration 300: error = 1.5417404, gradient norm = 0.0037132 (50 iterations in 3.119s)\n",
      "[t-SNE] Iteration 350: error = 1.4033940, gradient norm = 0.0007742 (50 iterations in 2.784s)\n",
      "[t-SNE] Iteration 400: error = 1.3105613, gradient norm = 0.0006551 (50 iterations in 2.520s)\n",
      "[t-SNE] Iteration 450: error = 1.2998978, gradient norm = 0.0001805 (50 iterations in 2.379s)\n",
      "[t-SNE] Iteration 500: error = 1.2933395, gradient norm = 0.0002091 (50 iterations in 2.552s)\n",
      "[t-SNE] Iteration 550: error = 1.2896228, gradient norm = 0.0001496 (50 iterations in 2.535s)\n",
      "[t-SNE] Iteration 600: error = 1.2865874, gradient norm = 0.0001390 (50 iterations in 2.971s)\n",
      "[t-SNE] Iteration 650: error = 1.2847562, gradient norm = 0.0001271 (50 iterations in 5.324s)\n",
      "[t-SNE] Iteration 700: error = 1.2832599, gradient norm = 0.0000835 (50 iterations in 19.955s)\n",
      "[t-SNE] Iteration 750: error = 1.2817566, gradient norm = 0.0001466 (50 iterations in 20.097s)\n",
      "[t-SNE] Iteration 800: error = 1.2810374, gradient norm = 0.0001286 (50 iterations in 21.403s)\n",
      "[t-SNE] Iteration 850: error = 1.2804016, gradient norm = 0.0001036 (50 iterations in 19.003s)\n",
      "[t-SNE] Iteration 900: error = 1.2797920, gradient norm = 0.0001041 (50 iterations in 26.647s)\n",
      "[t-SNE] Iteration 950: error = 1.2792565, gradient norm = 0.0000764 (50 iterations in 24.706s)\n",
      "[t-SNE] Iteration 1000: error = 1.2787027, gradient norm = 0.0000748 (50 iterations in 14.837s)\n",
      "[t-SNE] KL divergence after 1000 iterations: 1.278703\n"
     ]
    }
   ],
   "source": [
    "from sklearn.manifold import TSNE\n",
    "\n",
    "# map word vectors onto 2d plane with TSNE. hint: use verbose=100 to see what it's doing.\n",
    "# normalize them as just lke with pca\n",
    "\n",
    "\n",
    "word_tsne = TSNE(verbose=100).fit_transform(word_vectors)\n",
    "word_tsne -= word_tsne.mean(0)\n",
    "word_tsne /= word_tsne.std(0)"
   ]
  },
  {
   "cell_type": "code",
   "execution_count": 107,
   "metadata": {},
   "outputs": [
    {
     "data": {
      "text/html": [
       "\n",
       "    <div class=\"bk-root\">\n",
       "        <a href=\"https://bokeh.pydata.org\" target=\"_blank\" class=\"bk-logo bk-logo-small bk-logo-notebook\"></a>\n",
       "        <span id=\"1110\">Loading BokehJS ...</span>\n",
       "    </div>"
      ]
     },
     "metadata": {},
     "output_type": "display_data"
    },
    {
     "data": {
      "application/javascript": [
       "\n",
       "(function(root) {\n",
       "  function now() {\n",
       "    return new Date();\n",
       "  }\n",
       "\n",
       "  var force = true;\n",
       "\n",
       "  if (typeof root._bokeh_onload_callbacks === \"undefined\" || force === true) {\n",
       "    root._bokeh_onload_callbacks = [];\n",
       "    root._bokeh_is_loading = undefined;\n",
       "  }\n",
       "\n",
       "  var JS_MIME_TYPE = 'application/javascript';\n",
       "  var HTML_MIME_TYPE = 'text/html';\n",
       "  var EXEC_MIME_TYPE = 'application/vnd.bokehjs_exec.v0+json';\n",
       "  var CLASS_NAME = 'output_bokeh rendered_html';\n",
       "\n",
       "  /**\n",
       "   * Render data to the DOM node\n",
       "   */\n",
       "  function render(props, node) {\n",
       "    var script = document.createElement(\"script\");\n",
       "    node.appendChild(script);\n",
       "  }\n",
       "\n",
       "  /**\n",
       "   * Handle when an output is cleared or removed\n",
       "   */\n",
       "  function handleClearOutput(event, handle) {\n",
       "    var cell = handle.cell;\n",
       "\n",
       "    var id = cell.output_area._bokeh_element_id;\n",
       "    var server_id = cell.output_area._bokeh_server_id;\n",
       "    // Clean up Bokeh references\n",
       "    if (id != null && id in Bokeh.index) {\n",
       "      Bokeh.index[id].model.document.clear();\n",
       "      delete Bokeh.index[id];\n",
       "    }\n",
       "\n",
       "    if (server_id !== undefined) {\n",
       "      // Clean up Bokeh references\n",
       "      var cmd = \"from bokeh.io.state import curstate; print(curstate().uuid_to_server['\" + server_id + \"'].get_sessions()[0].document.roots[0]._id)\";\n",
       "      cell.notebook.kernel.execute(cmd, {\n",
       "        iopub: {\n",
       "          output: function(msg) {\n",
       "            var id = msg.content.text.trim();\n",
       "            if (id in Bokeh.index) {\n",
       "              Bokeh.index[id].model.document.clear();\n",
       "              delete Bokeh.index[id];\n",
       "            }\n",
       "          }\n",
       "        }\n",
       "      });\n",
       "      // Destroy server and session\n",
       "      var cmd = \"import bokeh.io.notebook as ion; ion.destroy_server('\" + server_id + \"')\";\n",
       "      cell.notebook.kernel.execute(cmd);\n",
       "    }\n",
       "  }\n",
       "\n",
       "  /**\n",
       "   * Handle when a new output is added\n",
       "   */\n",
       "  function handleAddOutput(event, handle) {\n",
       "    var output_area = handle.output_area;\n",
       "    var output = handle.output;\n",
       "\n",
       "    // limit handleAddOutput to display_data with EXEC_MIME_TYPE content only\n",
       "    if ((output.output_type != \"display_data\") || (!output.data.hasOwnProperty(EXEC_MIME_TYPE))) {\n",
       "      return\n",
       "    }\n",
       "\n",
       "    var toinsert = output_area.element.find(\".\" + CLASS_NAME.split(' ')[0]);\n",
       "\n",
       "    if (output.metadata[EXEC_MIME_TYPE][\"id\"] !== undefined) {\n",
       "      toinsert[toinsert.length - 1].firstChild.textContent = output.data[JS_MIME_TYPE];\n",
       "      // store reference to embed id on output_area\n",
       "      output_area._bokeh_element_id = output.metadata[EXEC_MIME_TYPE][\"id\"];\n",
       "    }\n",
       "    if (output.metadata[EXEC_MIME_TYPE][\"server_id\"] !== undefined) {\n",
       "      var bk_div = document.createElement(\"div\");\n",
       "      bk_div.innerHTML = output.data[HTML_MIME_TYPE];\n",
       "      var script_attrs = bk_div.children[0].attributes;\n",
       "      for (var i = 0; i < script_attrs.length; i++) {\n",
       "        toinsert[toinsert.length - 1].firstChild.setAttribute(script_attrs[i].name, script_attrs[i].value);\n",
       "      }\n",
       "      // store reference to server id on output_area\n",
       "      output_area._bokeh_server_id = output.metadata[EXEC_MIME_TYPE][\"server_id\"];\n",
       "    }\n",
       "  }\n",
       "\n",
       "  function register_renderer(events, OutputArea) {\n",
       "\n",
       "    function append_mime(data, metadata, element) {\n",
       "      // create a DOM node to render to\n",
       "      var toinsert = this.create_output_subarea(\n",
       "        metadata,\n",
       "        CLASS_NAME,\n",
       "        EXEC_MIME_TYPE\n",
       "      );\n",
       "      this.keyboard_manager.register_events(toinsert);\n",
       "      // Render to node\n",
       "      var props = {data: data, metadata: metadata[EXEC_MIME_TYPE]};\n",
       "      render(props, toinsert[toinsert.length - 1]);\n",
       "      element.append(toinsert);\n",
       "      return toinsert\n",
       "    }\n",
       "\n",
       "    /* Handle when an output is cleared or removed */\n",
       "    events.on('clear_output.CodeCell', handleClearOutput);\n",
       "    events.on('delete.Cell', handleClearOutput);\n",
       "\n",
       "    /* Handle when a new output is added */\n",
       "    events.on('output_added.OutputArea', handleAddOutput);\n",
       "\n",
       "    /**\n",
       "     * Register the mime type and append_mime function with output_area\n",
       "     */\n",
       "    OutputArea.prototype.register_mime_type(EXEC_MIME_TYPE, append_mime, {\n",
       "      /* Is output safe? */\n",
       "      safe: true,\n",
       "      /* Index of renderer in `output_area.display_order` */\n",
       "      index: 0\n",
       "    });\n",
       "  }\n",
       "\n",
       "  // register the mime type if in Jupyter Notebook environment and previously unregistered\n",
       "  if (root.Jupyter !== undefined) {\n",
       "    var events = require('base/js/events');\n",
       "    var OutputArea = require('notebook/js/outputarea').OutputArea;\n",
       "\n",
       "    if (OutputArea.prototype.mime_types().indexOf(EXEC_MIME_TYPE) == -1) {\n",
       "      register_renderer(events, OutputArea);\n",
       "    }\n",
       "  }\n",
       "\n",
       "  \n",
       "  if (typeof (root._bokeh_timeout) === \"undefined\" || force === true) {\n",
       "    root._bokeh_timeout = Date.now() + 5000;\n",
       "    root._bokeh_failed_load = false;\n",
       "  }\n",
       "\n",
       "  var NB_LOAD_WARNING = {'data': {'text/html':\n",
       "     \"<div style='background-color: #fdd'>\\n\"+\n",
       "     \"<p>\\n\"+\n",
       "     \"BokehJS does not appear to have successfully loaded. If loading BokehJS from CDN, this \\n\"+\n",
       "     \"may be due to a slow or bad network connection. Possible fixes:\\n\"+\n",
       "     \"</p>\\n\"+\n",
       "     \"<ul>\\n\"+\n",
       "     \"<li>re-rerun `output_notebook()` to attempt to load from CDN again, or</li>\\n\"+\n",
       "     \"<li>use INLINE resources instead, as so:</li>\\n\"+\n",
       "     \"</ul>\\n\"+\n",
       "     \"<code>\\n\"+\n",
       "     \"from bokeh.resources import INLINE\\n\"+\n",
       "     \"output_notebook(resources=INLINE)\\n\"+\n",
       "     \"</code>\\n\"+\n",
       "     \"</div>\"}};\n",
       "\n",
       "  function display_loaded() {\n",
       "    var el = document.getElementById(\"1110\");\n",
       "    if (el != null) {\n",
       "      el.textContent = \"BokehJS is loading...\";\n",
       "    }\n",
       "    if (root.Bokeh !== undefined) {\n",
       "      if (el != null) {\n",
       "        el.textContent = \"BokehJS \" + root.Bokeh.version + \" successfully loaded.\";\n",
       "      }\n",
       "    } else if (Date.now() < root._bokeh_timeout) {\n",
       "      setTimeout(display_loaded, 100)\n",
       "    }\n",
       "  }\n",
       "\n",
       "\n",
       "  function run_callbacks() {\n",
       "    try {\n",
       "      root._bokeh_onload_callbacks.forEach(function(callback) {\n",
       "        if (callback != null)\n",
       "          callback();\n",
       "      });\n",
       "    } finally {\n",
       "      delete root._bokeh_onload_callbacks\n",
       "    }\n",
       "    console.debug(\"Bokeh: all callbacks have finished\");\n",
       "  }\n",
       "\n",
       "  function load_libs(css_urls, js_urls, callback) {\n",
       "    if (css_urls == null) css_urls = [];\n",
       "    if (js_urls == null) js_urls = [];\n",
       "\n",
       "    root._bokeh_onload_callbacks.push(callback);\n",
       "    if (root._bokeh_is_loading > 0) {\n",
       "      console.debug(\"Bokeh: BokehJS is being loaded, scheduling callback at\", now());\n",
       "      return null;\n",
       "    }\n",
       "    if (js_urls == null || js_urls.length === 0) {\n",
       "      run_callbacks();\n",
       "      return null;\n",
       "    }\n",
       "    console.debug(\"Bokeh: BokehJS not loaded, scheduling load and callback at\", now());\n",
       "    root._bokeh_is_loading = css_urls.length + js_urls.length;\n",
       "\n",
       "    function on_load() {\n",
       "      root._bokeh_is_loading--;\n",
       "      if (root._bokeh_is_loading === 0) {\n",
       "        console.debug(\"Bokeh: all BokehJS libraries/stylesheets loaded\");\n",
       "        run_callbacks()\n",
       "      }\n",
       "    }\n",
       "\n",
       "    function on_error() {\n",
       "      console.error(\"failed to load \" + url);\n",
       "    }\n",
       "\n",
       "    for (var i = 0; i < css_urls.length; i++) {\n",
       "      var url = css_urls[i];\n",
       "      const element = document.createElement(\"link\");\n",
       "      element.onload = on_load;\n",
       "      element.onerror = on_error;\n",
       "      element.rel = \"stylesheet\";\n",
       "      element.type = \"text/css\";\n",
       "      element.href = url;\n",
       "      console.debug(\"Bokeh: injecting link tag for BokehJS stylesheet: \", url);\n",
       "      document.body.appendChild(element);\n",
       "    }\n",
       "\n",
       "    for (var i = 0; i < js_urls.length; i++) {\n",
       "      var url = js_urls[i];\n",
       "      var element = document.createElement('script');\n",
       "      element.onload = on_load;\n",
       "      element.onerror = on_error;\n",
       "      element.async = false;\n",
       "      element.src = url;\n",
       "      console.debug(\"Bokeh: injecting script tag for BokehJS library: \", url);\n",
       "      document.head.appendChild(element);\n",
       "    }\n",
       "  };var element = document.getElementById(\"1110\");\n",
       "  if (element == null) {\n",
       "    console.error(\"Bokeh: ERROR: autoload.js configured with elementid '1110' but no matching script tag was found. \")\n",
       "    return false;\n",
       "  }\n",
       "\n",
       "  function inject_raw_css(css) {\n",
       "    const element = document.createElement(\"style\");\n",
       "    element.appendChild(document.createTextNode(css));\n",
       "    document.body.appendChild(element);\n",
       "  }\n",
       "\n",
       "  var js_urls = [\"https://cdn.pydata.org/bokeh/release/bokeh-1.2.0.min.js\", \"https://cdn.pydata.org/bokeh/release/bokeh-widgets-1.2.0.min.js\", \"https://cdn.pydata.org/bokeh/release/bokeh-tables-1.2.0.min.js\", \"https://cdn.pydata.org/bokeh/release/bokeh-gl-1.2.0.min.js\"];\n",
       "  var css_urls = [\"https://cdn.pydata.org/bokeh/release/bokeh-1.2.0.min.css\", \"https://cdn.pydata.org/bokeh/release/bokeh-widgets-1.2.0.min.css\", \"https://cdn.pydata.org/bokeh/release/bokeh-tables-1.2.0.min.css\"];\n",
       "\n",
       "  var inline_js = [\n",
       "    function(Bokeh) {\n",
       "      Bokeh.set_log_level(\"info\");\n",
       "    },\n",
       "    \n",
       "    function(Bokeh) {\n",
       "      \n",
       "    },\n",
       "    function(Bokeh) {} // ensure no trailing comma for IE\n",
       "  ];\n",
       "\n",
       "  function run_inline_js() {\n",
       "    \n",
       "    if ((root.Bokeh !== undefined) || (force === true)) {\n",
       "      for (var i = 0; i < inline_js.length; i++) {\n",
       "        inline_js[i].call(root, root.Bokeh);\n",
       "      }if (force === true) {\n",
       "        display_loaded();\n",
       "      }} else if (Date.now() < root._bokeh_timeout) {\n",
       "      setTimeout(run_inline_js, 100);\n",
       "    } else if (!root._bokeh_failed_load) {\n",
       "      console.log(\"Bokeh: BokehJS failed to load within specified timeout.\");\n",
       "      root._bokeh_failed_load = true;\n",
       "    } else if (force !== true) {\n",
       "      var cell = $(document.getElementById(\"1110\")).parents('.cell').data().cell;\n",
       "      cell.output_area.append_execute_result(NB_LOAD_WARNING)\n",
       "    }\n",
       "\n",
       "  }\n",
       "\n",
       "  if (root._bokeh_is_loading === 0) {\n",
       "    console.debug(\"Bokeh: BokehJS loaded, going straight to plotting\");\n",
       "    run_inline_js();\n",
       "  } else {\n",
       "    load_libs(css_urls, js_urls, function() {\n",
       "      console.debug(\"Bokeh: BokehJS plotting callback run at\", now());\n",
       "      run_inline_js();\n",
       "    });\n",
       "  }\n",
       "}(window));"
      ],
      "application/vnd.bokehjs_load.v0+json": "\n(function(root) {\n  function now() {\n    return new Date();\n  }\n\n  var force = true;\n\n  if (typeof root._bokeh_onload_callbacks === \"undefined\" || force === true) {\n    root._bokeh_onload_callbacks = [];\n    root._bokeh_is_loading = undefined;\n  }\n\n  \n\n  \n  if (typeof (root._bokeh_timeout) === \"undefined\" || force === true) {\n    root._bokeh_timeout = Date.now() + 5000;\n    root._bokeh_failed_load = false;\n  }\n\n  var NB_LOAD_WARNING = {'data': {'text/html':\n     \"<div style='background-color: #fdd'>\\n\"+\n     \"<p>\\n\"+\n     \"BokehJS does not appear to have successfully loaded. If loading BokehJS from CDN, this \\n\"+\n     \"may be due to a slow or bad network connection. Possible fixes:\\n\"+\n     \"</p>\\n\"+\n     \"<ul>\\n\"+\n     \"<li>re-rerun `output_notebook()` to attempt to load from CDN again, or</li>\\n\"+\n     \"<li>use INLINE resources instead, as so:</li>\\n\"+\n     \"</ul>\\n\"+\n     \"<code>\\n\"+\n     \"from bokeh.resources import INLINE\\n\"+\n     \"output_notebook(resources=INLINE)\\n\"+\n     \"</code>\\n\"+\n     \"</div>\"}};\n\n  function display_loaded() {\n    var el = document.getElementById(\"1110\");\n    if (el != null) {\n      el.textContent = \"BokehJS is loading...\";\n    }\n    if (root.Bokeh !== undefined) {\n      if (el != null) {\n        el.textContent = \"BokehJS \" + root.Bokeh.version + \" successfully loaded.\";\n      }\n    } else if (Date.now() < root._bokeh_timeout) {\n      setTimeout(display_loaded, 100)\n    }\n  }\n\n\n  function run_callbacks() {\n    try {\n      root._bokeh_onload_callbacks.forEach(function(callback) {\n        if (callback != null)\n          callback();\n      });\n    } finally {\n      delete root._bokeh_onload_callbacks\n    }\n    console.debug(\"Bokeh: all callbacks have finished\");\n  }\n\n  function load_libs(css_urls, js_urls, callback) {\n    if (css_urls == null) css_urls = [];\n    if (js_urls == null) js_urls = [];\n\n    root._bokeh_onload_callbacks.push(callback);\n    if (root._bokeh_is_loading > 0) {\n      console.debug(\"Bokeh: BokehJS is being loaded, scheduling callback at\", now());\n      return null;\n    }\n    if (js_urls == null || js_urls.length === 0) {\n      run_callbacks();\n      return null;\n    }\n    console.debug(\"Bokeh: BokehJS not loaded, scheduling load and callback at\", now());\n    root._bokeh_is_loading = css_urls.length + js_urls.length;\n\n    function on_load() {\n      root._bokeh_is_loading--;\n      if (root._bokeh_is_loading === 0) {\n        console.debug(\"Bokeh: all BokehJS libraries/stylesheets loaded\");\n        run_callbacks()\n      }\n    }\n\n    function on_error() {\n      console.error(\"failed to load \" + url);\n    }\n\n    for (var i = 0; i < css_urls.length; i++) {\n      var url = css_urls[i];\n      const element = document.createElement(\"link\");\n      element.onload = on_load;\n      element.onerror = on_error;\n      element.rel = \"stylesheet\";\n      element.type = \"text/css\";\n      element.href = url;\n      console.debug(\"Bokeh: injecting link tag for BokehJS stylesheet: \", url);\n      document.body.appendChild(element);\n    }\n\n    for (var i = 0; i < js_urls.length; i++) {\n      var url = js_urls[i];\n      var element = document.createElement('script');\n      element.onload = on_load;\n      element.onerror = on_error;\n      element.async = false;\n      element.src = url;\n      console.debug(\"Bokeh: injecting script tag for BokehJS library: \", url);\n      document.head.appendChild(element);\n    }\n  };var element = document.getElementById(\"1110\");\n  if (element == null) {\n    console.error(\"Bokeh: ERROR: autoload.js configured with elementid '1110' but no matching script tag was found. \")\n    return false;\n  }\n\n  function inject_raw_css(css) {\n    const element = document.createElement(\"style\");\n    element.appendChild(document.createTextNode(css));\n    document.body.appendChild(element);\n  }\n\n  var js_urls = [\"https://cdn.pydata.org/bokeh/release/bokeh-1.2.0.min.js\", \"https://cdn.pydata.org/bokeh/release/bokeh-widgets-1.2.0.min.js\", \"https://cdn.pydata.org/bokeh/release/bokeh-tables-1.2.0.min.js\", \"https://cdn.pydata.org/bokeh/release/bokeh-gl-1.2.0.min.js\"];\n  var css_urls = [\"https://cdn.pydata.org/bokeh/release/bokeh-1.2.0.min.css\", \"https://cdn.pydata.org/bokeh/release/bokeh-widgets-1.2.0.min.css\", \"https://cdn.pydata.org/bokeh/release/bokeh-tables-1.2.0.min.css\"];\n\n  var inline_js = [\n    function(Bokeh) {\n      Bokeh.set_log_level(\"info\");\n    },\n    \n    function(Bokeh) {\n      \n    },\n    function(Bokeh) {} // ensure no trailing comma for IE\n  ];\n\n  function run_inline_js() {\n    \n    if ((root.Bokeh !== undefined) || (force === true)) {\n      for (var i = 0; i < inline_js.length; i++) {\n        inline_js[i].call(root, root.Bokeh);\n      }if (force === true) {\n        display_loaded();\n      }} else if (Date.now() < root._bokeh_timeout) {\n      setTimeout(run_inline_js, 100);\n    } else if (!root._bokeh_failed_load) {\n      console.log(\"Bokeh: BokehJS failed to load within specified timeout.\");\n      root._bokeh_failed_load = true;\n    } else if (force !== true) {\n      var cell = $(document.getElementById(\"1110\")).parents('.cell').data().cell;\n      cell.output_area.append_execute_result(NB_LOAD_WARNING)\n    }\n\n  }\n\n  if (root._bokeh_is_loading === 0) {\n    console.debug(\"Bokeh: BokehJS loaded, going straight to plotting\");\n    run_inline_js();\n  } else {\n    load_libs(css_urls, js_urls, function() {\n      console.debug(\"Bokeh: BokehJS plotting callback run at\", now());\n      run_inline_js();\n    });\n  }\n}(window));"
     },
     "metadata": {},
     "output_type": "display_data"
    }
   ],
   "source": [
    "import bokeh.models as bm, bokeh.plotting as pl\n",
    "from bokeh.io import output_notebook\n",
    "output_notebook()\n",
    "\n",
    "def draw_vectors(x, y, radius=10, alpha=0.25, color='blue',\n",
    "                 width=600, height=400, show=True, **kwargs):\n",
    "    \"\"\" draws an interactive plot for data points with auxilirary info on hover \"\"\"\n",
    "    if isinstance(color, str): color = [color] * len(x)\n",
    "    data_source = bm.ColumnDataSource({ 'x' : x, 'y' : y, 'color': color, **kwargs })\n",
    "\n",
    "    fig = pl.figure(active_scroll='wheel_zoom', width=width, height=height)\n",
    "    fig.scatter('x', 'y', size=radius, color='color', alpha=alpha, source=data_source)\n",
    "\n",
    "    fig.add_tools(bm.HoverTool(tooltips=[(key, \"@\" + key) for key in kwargs.keys()]))\n",
    "    if show: pl.show(fig)\n",
    "    return fig"
   ]
  },
  {
   "cell_type": "code",
   "execution_count": 108,
   "metadata": {},
   "outputs": [
    {
     "data": {
      "text/html": [
       "\n",
       "\n",
       "\n",
       "\n",
       "\n",
       "\n",
       "  <div class=\"bk-root\" id=\"4cb9a9b8-292c-48ac-a062-e9ee9813706e\" data-root-id=\"1112\"></div>\n"
      ]
     },
     "metadata": {},
     "output_type": "display_data"
    },
    {
     "data": {
      "application/javascript": [
       "(function(root) {\n",
       "  function embed_document(root) {\n",
       "    \n",
       "  var docs_json = {\"d51af0bf-6848-41ca-af79-9e392d8afc15\":{\"roots\":{\"references\":[{\"attributes\":{\"below\":[{\"id\":\"1121\",\"type\":\"LinearAxis\"}],\"center\":[{\"id\":\"1125\",\"type\":\"Grid\"},{\"id\":\"1130\",\"type\":\"Grid\"}],\"left\":[{\"id\":\"1126\",\"type\":\"LinearAxis\"}],\"plot_height\":400,\"renderers\":[{\"id\":\"1147\",\"type\":\"GlyphRenderer\"}],\"title\":{\"id\":\"1160\",\"type\":\"Title\"},\"toolbar\":{\"id\":\"1137\",\"type\":\"Toolbar\"},\"x_range\":{\"id\":\"1113\",\"type\":\"DataRange1d\"},\"x_scale\":{\"id\":\"1117\",\"type\":\"LinearScale\"},\"y_range\":{\"id\":\"1115\",\"type\":\"DataRange1d\"},\"y_scale\":{\"id\":\"1119\",\"type\":\"LinearScale\"}},\"id\":\"1112\",\"subtype\":\"Figure\",\"type\":\"Plot\"},{\"attributes\":{\"callback\":null},\"id\":\"1115\",\"type\":\"DataRange1d\"},{\"attributes\":{},\"id\":\"1135\",\"type\":\"ResetTool\"},{\"attributes\":{\"bottom_units\":\"screen\",\"fill_alpha\":{\"value\":0.5},\"fill_color\":{\"value\":\"lightgrey\"},\"left_units\":\"screen\",\"level\":\"overlay\",\"line_alpha\":{\"value\":1.0},\"line_color\":{\"value\":\"black\"},\"line_dash\":[4,4],\"line_width\":{\"value\":2},\"render_mode\":\"css\",\"right_units\":\"screen\",\"top_units\":\"screen\"},\"id\":\"1166\",\"type\":\"BoxAnnotation\"},{\"attributes\":{\"fill_alpha\":{\"value\":0.1},\"fill_color\":{\"value\":\"#1f77b4\"},\"line_alpha\":{\"value\":0.1},\"line_color\":{\"value\":\"#1f77b4\"},\"size\":{\"units\":\"screen\",\"value\":10},\"x\":{\"field\":\"x\"},\"y\":{\"field\":\"y\"}},\"id\":\"1146\",\"type\":\"Scatter\"},{\"attributes\":{\"text\":\"\"},\"id\":\"1160\",\"type\":\"Title\"},{\"attributes\":{\"formatter\":{\"id\":\"1163\",\"type\":\"BasicTickFormatter\"},\"ticker\":{\"id\":\"1122\",\"type\":\"BasicTicker\"}},\"id\":\"1121\",\"type\":\"LinearAxis\"},{\"attributes\":{},\"id\":\"1117\",\"type\":\"LinearScale\"},{\"attributes\":{},\"id\":\"1122\",\"type\":\"BasicTicker\"},{\"attributes\":{},\"id\":\"1165\",\"type\":\"BasicTickFormatter\"},{\"attributes\":{},\"id\":\"1136\",\"type\":\"HelpTool\"},{\"attributes\":{\"fill_alpha\":{\"value\":0.25},\"fill_color\":{\"field\":\"color\"},\"line_alpha\":{\"value\":0.25},\"line_color\":{\"field\":\"color\"},\"size\":{\"units\":\"screen\",\"value\":10},\"x\":{\"field\":\"x\"},\"y\":{\"field\":\"y\"}},\"id\":\"1145\",\"type\":\"Scatter\"},{\"attributes\":{},\"id\":\"1134\",\"type\":\"SaveTool\"},{\"attributes\":{\"overlay\":{\"id\":\"1166\",\"type\":\"BoxAnnotation\"}},\"id\":\"1133\",\"type\":\"BoxZoomTool\"},{\"attributes\":{},\"id\":\"1163\",\"type\":\"BasicTickFormatter\"},{\"attributes\":{\"data_source\":{\"id\":\"1111\",\"type\":\"ColumnDataSource\"},\"glyph\":{\"id\":\"1145\",\"type\":\"Scatter\"},\"hover_glyph\":null,\"muted_glyph\":null,\"nonselection_glyph\":{\"id\":\"1146\",\"type\":\"Scatter\"},\"selection_glyph\":null,\"view\":{\"id\":\"1148\",\"type\":\"CDSView\"}},\"id\":\"1147\",\"type\":\"GlyphRenderer\"},{\"attributes\":{},\"id\":\"1168\",\"type\":\"Selection\"},{\"attributes\":{\"source\":{\"id\":\"1111\",\"type\":\"ColumnDataSource\"}},\"id\":\"1148\",\"type\":\"CDSView\"},{\"attributes\":{},\"id\":\"1127\",\"type\":\"BasicTicker\"},{\"attributes\":{\"ticker\":{\"id\":\"1122\",\"type\":\"BasicTicker\"}},\"id\":\"1125\",\"type\":\"Grid\"},{\"attributes\":{},\"id\":\"1132\",\"type\":\"WheelZoomTool\"},{\"attributes\":{\"callback\":null},\"id\":\"1113\",\"type\":\"DataRange1d\"},{\"attributes\":{},\"id\":\"1119\",\"type\":\"LinearScale\"},{\"attributes\":{\"callback\":null,\"data\":{\"color\":[\"green\",\"green\",\"green\",\"green\",\"green\",\"green\",\"green\",\"green\",\"green\",\"green\",\"green\",\"green\",\"green\",\"green\",\"green\",\"green\",\"green\",\"green\",\"green\",\"green\",\"green\",\"green\",\"green\",\"green\",\"green\",\"green\",\"green\",\"green\",\"green\",\"green\",\"green\",\"green\",\"green\",\"green\",\"green\",\"green\",\"green\",\"green\",\"green\",\"green\",\"green\",\"green\",\"green\",\"green\",\"green\",\"green\",\"green\",\"green\",\"green\",\"green\",\"green\",\"green\",\"green\",\"green\",\"green\",\"green\",\"green\",\"green\",\"green\",\"green\",\"green\",\"green\",\"green\",\"green\",\"green\",\"green\",\"green\",\"green\",\"green\",\"green\",\"green\",\"green\",\"green\",\"green\",\"green\",\"green\",\"green\",\"green\",\"green\",\"green\",\"green\",\"green\",\"green\",\"green\",\"green\",\"green\",\"green\",\"green\",\"green\",\"green\",\"green\",\"green\",\"green\",\"green\",\"green\",\"green\",\"green\",\"green\",\"green\",\"green\",\"green\",\"green\",\"green\",\"green\",\"green\",\"green\",\"green\",\"green\",\"green\",\"green\",\"green\",\"green\",\"green\",\"green\",\"green\",\"green\",\"green\",\"green\",\"green\",\"green\",\"green\",\"green\",\"green\",\"green\",\"green\",\"green\",\"green\",\"green\",\"green\",\"green\",\"green\",\"green\",\"green\",\"green\",\"green\",\"green\",\"green\",\"green\",\"green\",\"green\",\"green\",\"green\",\"green\",\"green\",\"green\",\"green\",\"green\",\"green\",\"green\",\"green\",\"green\",\"green\",\"green\",\"green\",\"green\",\"green\",\"green\",\"green\",\"green\",\"green\",\"green\",\"green\",\"green\",\"green\",\"green\",\"green\",\"green\",\"green\",\"green\",\"green\",\"green\",\"green\",\"green\",\"green\",\"green\",\"green\",\"green\",\"green\",\"green\",\"green\",\"green\",\"green\",\"green\",\"green\",\"green\",\"green\",\"green\",\"green\",\"green\",\"green\",\"green\",\"green\",\"green\",\"green\",\"green\",\"green\",\"green\",\"green\",\"green\",\"green\",\"green\",\"green\",\"green\",\"green\",\"green\",\"green\",\"green\",\"green\",\"green\",\"green\",\"green\",\"green\",\"green\",\"green\",\"green\",\"green\",\"green\",\"green\",\"green\",\"green\",\"green\",\"green\",\"green\",\"green\",\"green\",\"green\",\"green\",\"green\",\"green\",\"green\",\"green\",\"green\",\"green\",\"green\",\"green\",\"green\",\"green\",\"green\",\"green\",\"green\",\"green\",\"green\",\"green\",\"green\",\"green\",\"green\",\"green\",\"green\",\"green\",\"green\",\"green\",\"green\",\"green\",\"green\",\"green\",\"green\",\"green\",\"green\",\"green\",\"green\",\"green\",\"green\",\"green\",\"green\",\"green\",\"green\",\"green\",\"green\",\"green\",\"green\",\"green\",\"green\",\"green\",\"green\",\"green\",\"green\",\"green\",\"green\",\"green\",\"green\",\"green\",\"green\",\"green\",\"green\",\"green\",\"green\",\"green\",\"green\",\"green\",\"green\",\"green\",\"green\",\"green\",\"green\",\"green\",\"green\",\"green\",\"green\",\"green\",\"green\",\"green\",\"green\",\"green\",\"green\",\"green\",\"green\",\"green\",\"green\",\"green\",\"green\",\"green\",\"green\",\"green\",\"green\",\"green\",\"green\",\"green\",\"green\",\"green\",\"green\",\"green\",\"green\",\"green\",\"green\",\"green\",\"green\",\"green\",\"green\",\"green\",\"green\",\"green\",\"green\",\"green\",\"green\",\"green\",\"green\",\"green\",\"green\",\"green\",\"green\",\"green\",\"green\",\"green\",\"green\",\"green\",\"green\",\"green\",\"green\",\"green\",\"green\",\"green\",\"green\",\"green\",\"green\",\"green\",\"green\",\"green\",\"green\",\"green\",\"green\",\"green\",\"green\",\"green\",\"green\",\"green\",\"green\",\"green\",\"green\",\"green\",\"green\",\"green\",\"green\",\"green\",\"green\",\"green\",\"green\",\"green\",\"green\",\"green\",\"green\",\"green\",\"green\",\"green\",\"green\",\"green\",\"green\",\"green\",\"green\",\"green\",\"green\",\"green\",\"green\",\"green\",\"green\",\"green\",\"green\",\"green\",\"green\",\"green\",\"green\",\"green\",\"green\",\"green\",\"green\",\"green\",\"green\",\"green\",\"green\",\"green\",\"green\",\"green\",\"green\",\"green\",\"green\",\"green\",\"green\",\"green\",\"green\",\"green\",\"green\",\"green\",\"green\",\"green\",\"green\",\"green\",\"green\",\"green\",\"green\",\"green\",\"green\",\"green\",\"green\",\"green\",\"green\",\"green\",\"green\",\"green\",\"green\",\"green\",\"green\",\"green\",\"green\",\"green\",\"green\",\"green\",\"green\",\"green\",\"green\",\"green\",\"green\",\"green\",\"green\",\"green\",\"green\",\"green\",\"green\",\"green\",\"green\",\"green\",\"green\",\"green\",\"green\",\"green\",\"green\",\"green\",\"green\",\"green\",\"green\",\"green\",\"green\",\"green\",\"green\",\"green\",\"green\",\"green\",\"green\",\"green\",\"green\",\"green\",\"green\",\"green\",\"green\",\"green\",\"green\",\"green\",\"green\",\"green\",\"green\",\"green\",\"green\",\"green\",\"green\",\"green\",\"green\",\"green\",\"green\",\"green\",\"green\",\"green\",\"green\",\"green\",\"green\",\"green\",\"green\",\"green\",\"green\",\"green\",\"green\",\"green\",\"green\",\"green\",\"green\",\"green\",\"green\",\"green\",\"green\",\"green\",\"green\",\"green\",\"green\",\"green\",\"green\",\"green\",\"green\",\"green\",\"green\",\"green\",\"green\",\"green\",\"green\",\"green\",\"green\",\"green\",\"green\",\"green\",\"green\",\"green\",\"green\",\"green\",\"green\",\"green\",\"green\",\"green\",\"green\",\"green\",\"green\",\"green\",\"green\",\"green\",\"green\",\"green\",\"green\",\"green\",\"green\",\"green\",\"green\",\"green\",\"green\",\"green\",\"green\",\"green\",\"green\",\"green\",\"green\",\"green\",\"green\",\"green\",\"green\",\"green\",\"green\",\"green\",\"green\",\"green\",\"green\",\"green\",\"green\",\"green\",\"green\",\"green\",\"green\",\"green\",\"green\",\"green\",\"green\",\"green\",\"green\",\"green\",\"green\",\"green\",\"green\",\"green\",\"green\",\"green\",\"green\",\"green\",\"green\",\"green\",\"green\",\"green\",\"green\",\"green\",\"green\",\"green\",\"green\",\"green\",\"green\",\"green\",\"green\",\"green\",\"green\",\"green\",\"green\",\"green\",\"green\",\"green\",\"green\",\"green\",\"green\",\"green\",\"green\",\"green\",\"green\",\"green\",\"green\",\"green\",\"green\",\"green\",\"green\",\"green\",\"green\",\"green\",\"green\",\"green\",\"green\",\"green\",\"green\",\"green\",\"green\",\"green\",\"green\",\"green\",\"green\",\"green\",\"green\",\"green\",\"green\",\"green\",\"green\",\"green\",\"green\",\"green\",\"green\",\"green\",\"green\",\"green\",\"green\",\"green\",\"green\",\"green\",\"green\",\"green\",\"green\",\"green\",\"green\",\"green\",\"green\",\"green\",\"green\",\"green\",\"green\",\"green\",\"green\",\"green\",\"green\",\"green\",\"green\",\"green\",\"green\",\"green\",\"green\",\"green\",\"green\",\"green\",\"green\",\"green\",\"green\",\"green\",\"green\",\"green\",\"green\",\"green\",\"green\",\"green\",\"green\",\"green\",\"green\",\"green\",\"green\",\"green\",\"green\",\"green\",\"green\",\"green\",\"green\",\"green\",\"green\",\"green\",\"green\",\"green\",\"green\",\"green\",\"green\",\"green\",\"green\",\"green\",\"green\",\"green\",\"green\",\"green\",\"green\",\"green\",\"green\",\"green\",\"green\",\"green\",\"green\",\"green\",\"green\",\"green\",\"green\",\"green\",\"green\",\"green\",\"green\",\"green\",\"green\",\"green\",\"green\",\"green\",\"green\",\"green\",\"green\",\"green\",\"green\",\"green\",\"green\",\"green\",\"green\",\"green\",\"green\",\"green\",\"green\",\"green\",\"green\",\"green\",\"green\",\"green\",\"green\",\"green\",\"green\",\"green\",\"green\",\"green\",\"green\",\"green\",\"green\",\"green\",\"green\",\"green\",\"green\",\"green\",\"green\",\"green\",\"green\",\"green\",\"green\",\"green\",\"green\",\"green\",\"green\",\"green\",\"green\",\"green\",\"green\",\"green\",\"green\",\"green\",\"green\",\"green\",\"green\",\"green\",\"green\",\"green\",\"green\",\"green\",\"green\",\"green\",\"green\",\"green\",\"green\",\"green\",\"green\",\"green\",\"green\",\"green\",\"green\",\"green\",\"green\",\"green\",\"green\",\"green\",\"green\",\"green\",\"green\",\"green\",\"green\",\"green\",\"green\",\"green\",\"green\",\"green\",\"green\",\"green\",\"green\",\"green\",\"green\",\"green\",\"green\",\"green\",\"green\",\"green\",\"green\",\"green\",\"green\",\"green\",\"green\",\"green\",\"green\",\"green\",\"green\",\"green\",\"green\",\"green\",\"green\",\"green\",\"green\",\"green\",\"green\",\"green\",\"green\",\"green\",\"green\",\"green\",\"green\",\"green\",\"green\",\"green\",\"green\",\"green\",\"green\",\"green\",\"green\",\"green\",\"green\",\"green\",\"green\",\"green\",\"green\",\"green\",\"green\",\"green\",\"green\",\"green\",\"green\",\"green\",\"green\",\"green\",\"green\",\"green\",\"green\",\"green\",\"green\",\"green\",\"green\",\"green\",\"green\",\"green\",\"green\",\"green\",\"green\",\"green\",\"green\",\"green\",\"green\",\"green\",\"green\",\"green\",\"green\",\"green\",\"green\",\"green\",\"green\",\"green\",\"green\",\"green\",\"green\",\"green\",\"green\",\"green\",\"green\",\"green\",\"green\",\"green\",\"green\",\"green\",\"green\",\"green\",\"green\",\"green\",\"green\",\"green\",\"green\",\"green\",\"green\",\"green\",\"green\",\"green\",\"green\",\"green\",\"green\",\"green\",\"green\",\"green\",\"green\",\"green\",\"green\",\"green\",\"green\",\"green\",\"green\",\"green\",\"green\",\"green\",\"green\",\"green\",\"green\",\"green\",\"green\",\"green\",\"green\",\"green\",\"green\",\"green\",\"green\",\"green\",\"green\",\"green\",\"green\",\"green\",\"green\",\"green\",\"green\",\"green\",\"green\",\"green\",\"green\",\"green\",\"green\",\"green\",\"green\",\"green\",\"green\",\"green\",\"green\",\"green\",\"green\",\"green\",\"green\",\"green\",\"green\",\"green\",\"green\",\"green\",\"green\",\"green\",\"green\",\"green\",\"green\",\"green\",\"green\",\"green\",\"green\",\"green\",\"green\",\"green\",\"green\",\"green\",\"green\",\"green\",\"green\"],\"token\":[\",\",\"the\",\".\",\"and\",\"of\",\"to\",\"in\",\"a\",\"\\\"\",\":\",\")\",\"that\",\"(\",\"is\",\"for\",\"on\",\"*\",\"with\",\"as\",\"it\",\"The\",\"or\",\"was\",\"'\",\"'s\",\"by\",\"from\",\"at\",\"I\",\"this\",\"you\",\"/\",\"are\",\"=\",\"not\",\"-\",\"have\",\"?\",\"be\",\"which\",\";\",\"all\",\"his\",\"has\",\"one\",\"their\",\"about\",\"but\",\"an\",\"|\",\"said\",\"more\",\"page\",\"he\",\"your\",\"will\",\"its\",\"so\",\"were\",\"had\",\"also\",\"only\",\"if\",\"time\",\"some\",\"people\",\"like\",\"who\",\"them\",\"other\",\"they\",\"when\",\"Wikipedia\",\"article\",\"what\",\"#\",\"just\",\"!\",\"any\",\"after\",\"there\",\"would\",\"can\",\"In\",\"her\",\"talk\",\"use\",\"then\",\"into\",\"up\",\"...\",\"we\",\"over\",\"my\",\"out\",\"here\",\"now\",\"because\",\"do\",\"work\",\"than\",\"no\",\"UTC\",\"me\",\"A\",\"two\",\"our\",\"been\",\"new\",\"where\",\"\\u2013\",\"first\",\"such\",\"made\",\"--\",\"If\",\"'t\",\"both\",\"before\",\"way\",\"1\",\"through\",\"information\",\"him\",\"being\",\"many\",\"most\",\"But\",\"those\",\"while\",\"name\",\"This\",\"should\",\"how\",\"even\",\"these\",\"see\",\"It\",\"make\",\"may\",\"2\",\"under\",\"\\u2014\",\"s\",\"year\",\"10\",\"state\",\"since\",\"years\",\"\\u201d\",\"edit\",\"right\",\"did\",\"used\",\"government\",\"case\",\"articles\",\"get\",\"between\",\"she\",\"\\u201c\",\"}\",\"think\",\"20\",\"during\",\"another\",\"And\",\"11\",\"3\",\"could\",\"using\",\"He\",\"without\",\"good\",\"place\",\"support\",\"back\",\"again\",\"against\",\"12\",\"15\",\"system\",\"called\",\"much\",\"still\",\"18\",\"%\",\"16\",\"change\",\"say\",\"point\",\"us\",\"group\",\"day\",\"three\",\"17\",\"14\",\"know\",\"help\",\"As\",\"last\",\"21\",\"each\",\"around\",\"2008\",\"edits\",\"says\",\"\\u2019\",\"13\",\"19\",\"life\",\"link\",\"22\",\"too\",\"left\",\"2009\",\"very\",\"students\",\"team\",\"sources\",\"off\",\"2007\",\"well\",\"4\",\"down\",\"section\",\"take\",\"does\",\"really\",\"23\",\"discussion\",\"either\",\"show\",\"public\",\"2010\",\"including\",\"set\",\"game\",\"policy\",\"later\",\"need\",\"program\",\"others\",\"source\",\"research\",\"+\",\"area\",\"children\",\"why\",\"family\",\"making\",\"deletion\",\"something\",\"content\",\"school\",\"added\",\"found\",\"until\",\"within\",\"following\",\"better\",\"5\",\"process\",\"&\",\"history\",\"You\",\"given\",\"2011\",\"question\",\"women\",\"For\",\"country\",\"company\",\"data\",\"part\",\"include\",\"site\",\"pages\",\"home\",\"business\",\"$\",\"2006\",\"having\",\"American\",\"2012\",\"put\",\"issue\",\"different\",\"world\",\"U.S.\",\"New\",\"things\",\"list\",\"power\",\"above\",\"best\",\"future\",\"read\",\"report\",\"project\",\"find\",\"problem\",\"book\",\"though\",\"law\",\"today\",\"We\",\"four\",\"links\",\"community\",\"several\",\"film\",\"So\",\"30\",\"free\",\"money\",\"line\",\"service\",\"actually\",\"2013\",\"second\",\"go\",\"deleted\",\"editing\",\"often\",\"every\",\"00\",\"course\",\"season\",\"possible\",\"That\",\"US\",\"war\",\"title\",\"local\",\"once\",\"study\",\"whether\",\"University\",\"yet\",\"6\",\"2014\",\"already\",\"issues\",\"got\",\"man\",\"Please\",\"services\",\"look\",\"questions\",\"On\",\"When\",\"removed\",\"men\",\"They\",\"form\",\"water\",\"view\",\"English\",\"25\",\"review\",\"person\",\"important\",\"changes\",\"further\",\"What\",\"own\",\"States\",\"present\",\"welcome\",\"might\",\"development\",\"done\",\"must\",\"someone\",\"told\",\"early\",\"British\",\"material\",\"position\",\"means\",\"created\",\"please\",\"thing\",\"text\",\"high\",\"itself\",\"long\",\"number\",\"started\",\"2015\",\"won\",\"24\",\"great\",\"start\",\"experience\",\"China\",\"party\",\"May\",\"current\",\"building\",\"play\",\"7\",\"always\",\"anything\",\"want\",\"fact\",\"series\",\"old\",\"included\",\"provide\",\"among\",\"2005\",\"story\",\"police\",\"There\",\"media\",\"days\",\"never\",\"probably\",\"No\",\"add\",\"next\",\"death\",\"took\",\"market\",\"city\",\"field\",\"music\",\"same\",\"working\",\"language\",\"problems\",\"needs\",\"reverted\",\"England\",\"less\",\"control\",\"London\",\"run\",\"image\",\"record\",\"believe\",\"former\",\"comment\",\"general\",\"don\",\"end\",\"After\",\"All\",\"education\",\"recent\",\"little\",\"political\",\"known\",\"open\",\"move\",\"evidence\",\"thought\",\"test\",\"message\",\"8\",\"rather\",\"members\",\"simply\",\"John\",\"week\",\"State\",\"real\",\"small\",\"user\",\"available\",\"reason\",\"staff\",\"account\",\"clear\",\"Image\",\"saying\",\"plan\",\"words\",\"works\",\"changed\",\"doing\",\"lead\",\"million\",\"house\",\"give\",\"term\",\"full\",\"2016\",\"keep\",\"website\",\"top\",\"March\",\"enough\",\"themselves\",\"action\",\"~\",\"]\",\"come\",\"provided\",\"five\",\"near\",\"job\",\"feel\",\"points\",\"One\",\"ever\",\"leave\",\"results\",\"technology\",\"At\",\"date\",\"29\",\"Thank\",\"With\",\"subject\",\"9\",\"26\",\"27\",\"became\",\"times\",\"28\",\"vote\",\"countries\",\"going\",\"seen\",\"outside\",\"taking\",\"level\",\"word\",\"national\",\"event\",\"WP\",\"health\",\"call\",\"along\",\"class\",\"America\",\"January\",\"large\",\"programs\",\"Talk\",\"April\",\"major\",\"UK\",\"court\",\"together\",\"vandalism\",\"period\",\"getting\",\"example\",\"[\",\"claim\",\"French\",\"Australia\",\"himself\",\"areas\",\"design\",\"writing\",\"interest\",\"body\",\"reported\",\"June\",\"population\",\"states\",\"companies\",\"wrong\",\"t\",\"perhaps\",\"order\",\"came\",\"industry\",\"September\",\"July\",\"Russia\",\"land\",\"office\",\"City\",\"true\",\"face\",\"address\",\"sure\",\"01\",\"everyone\",\"began\",\"president\",\"training\",\"side\",\"lost\",\"groups\",\"2004\",\"care\",\"space\",\"model\",\"per\",\"August\",\"October\",\"California\",\"France\",\"region\",\"While\",\"School\",\"request\",\"military\",\"nothing\",\"food\",\"events\",\"House\",\"individual\",\"ask\",\"decision\",\"policies\",\"02\",\"November\",\"books\",\"received\",\"album\",\"makes\",\"matter\",\"based\",\"December\",\"contributions\",\"..\",\"de\",\"mean\",\"news\",\"written\",\"images\",\"31\",\"systems\",\"various\",\"few\",\"held\",\"below\",\"tag\",\"played\",\"common\",\"Europe\",\"03\",\"performance\",\"She\",\"regarding\",\"production\",\"shows\",\"God\",\"India\",\"meeting\",\"away\",\"comments\",\"love\",\"stop\",\"practice\",\"reference\",\"rules\",\"head\",\"editors\",\"users\",\"anyone\",\"let\",\"statement\",\"Thanks\",\"schools\",\"appropriate\",\"instead\",\"campaign\",\"04\",\"almost\",\"Hello\",\"February\",\"i\",\"specific\",\"0\",\"players\",\"To\",\"hit\",\"Obama\",\"User\",\"President\",\"World\",\"names\",\"past\",\"05\",\"night\",\"least\",\"age\",\"note\",\"social\",\"management\",\"considered\",\"standard\",\"months\",\"idea\",\"deal\",\"attack\",\"student\",\"check\",\"post\",\"Now\",\"behind\",\"adding\",\"science\",\"South\",\"alt\",\"references\",\"....\",\"Mr.\",\"security\",\"Some\",\"games\",\"situation\",\"third\",\"race\",\"cases\",\"guidelines\",\"force\",\"German\",\"human\",\"light\",\"'m\",\"version\",\"organization\",\"named\",\"Germany\",\"official\",\"international\",\"release\",\"role\",\"block\",\"published\",\"character\",\"correct\",\"rule\",\"song\",\"six\",\"visit\",\"Mr\",\"value\",\"video\",\"usually\",\"big\",\"taken\",\"hope\",\"claims\",\"sometimes\",\"needed\",\"activities\",\"Washington\",\"@\",\"everything\",\"club\",\"remove\",\"town\",\"certain\",\"similar\",\"uses\",\"close\",\"player\",\"'re\",\"rights\",\"North\",\"Canada\",\"single\",\"paper\",\"potential\",\"economy\",\"appear\",\"society\",\"proposed\",\"West\",\"resources\",\"search\",\"cause\",\"win\",\"National\",\"election\",\"hand\",\"editor\",\"seems\",\"ago\",\"consensus\",\"am\",\"entry\",\"result\",\"\\\\\",\"far\",\"style\",\"wrote\",\"personal\",\"effect\",\"live\",\"2003\",\"online\",\"Israel\",\"includes\",\"become\",\"growth\",\"Japan\",\"share\",\"complete\",\"young\",\"earlier\",\"across\",\"06\",\"Hi\",\"products\",\"United\",\"released\",\"His\",\"playing\",\"car\",\"notable\",\"Congress\",\"Although\",\"offer\",\"child\",\"bad\",\"network\",\"notice\",\"energy\",\"knowledge\",\"European\",\"sandbox\",\"07\",\"asked\",\"09\",\"sites\",\"pay\",\"08\",\"understand\",\"reports\",\"product\",\"poor\",\"return\",\"short\",\"running\",\"constructive\",\"reading\",\"half\",\"currently\",\"2000\",\"required\",\"culture\",\"software\",\"nor\",\"projects\",\"Scotland\",\"match\",\"cost\",\"upon\",\"benefits\",\"First\",\"success\",\"My\",\"established\",\"David\",\"parents\",\"private\",\"property\",\"quality\",\"key\",\"whose\",\"sense\",\"theory\",\"numbers\",\"clearly\",\"Chinese\",\"continue\",\"treatment\",\"access\",\"living\",\"late\",\"total\",\"file\",\"band\",\"month\",\"species\",\"consider\",\"By\",\"original\",\"answer\",\"From\",\"black\",\"conditions\",\"air\",\"involved\",\"century\",\"leading\",\"fire\",\"50\",\"art\",\"\\u2022\",\"opinion\",\"final\",\"yourself\",\"gave\",\"environment\",\"saw\",\"debate\",\"costs\",\"developed\",\"100\",\"economic\",\"try\",\"Britain\",\"therefore\",\"category\",\"white\",\"friends\",\"type\",\"cut\",\"station\",\"church\",\"template\",\"Not\",\"myself\",\"risk\",\"mind\",\"via\",\"Texas\",\"hours\",\"War\",\"generally\",\"particular\",\"alone\",\"likely\",\"2001\",\"board\",\"structure\",\"significant\",\"tax\",\"approach\",\"hard\",\"movement\",\"provides\",\"legal\",\"went\",\"inside\",\"sentence\",\"workers\",\"related\",\"analysis\",\"simple\",\"terms\",\"ones\",\"especially\",\"College\",\"remains\",\"topic\",\"directly\",\"rate\",\"turn\",\"career\",\"sign\",\"necessary\",\"quite\",\"meaning\",\"application\",\"recently\",\"families\",\"status\",\"strong\",\"2002\",\"percent\",\"Russian\",\"Iraq\",\"individuals\",\"capital\",\"studies\",\"described\",\"reliable\",\"due\",\"killed\",\"encyclopedia\",\"Your\",\"blocked\",\"room\",\"How\",\"low\",\"built\",\"cover\",\"giving\",\"worked\",\"However\",\"brought\",\"https\",\"contact\",\"speedy\",\"special\",\"features\",\"size\",\"warning\",\"woman\",\"appears\",\"create\",\"lives\",\"standards\",\"author\",\"relevant\",\"James\"],\"x\":{\"__ndarray__\":\"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\",\"dtype\":\"float32\",\"shape\":[1000]},\"y\":{\"__ndarray__\":\"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\",\"dtype\":\"float32\",\"shape\":[1000]}},\"selected\":{\"id\":\"1168\",\"type\":\"Selection\"},\"selection_policy\":{\"id\":\"1167\",\"type\":\"UnionRenderers\"}},\"id\":\"1111\",\"type\":\"ColumnDataSource\"},{\"attributes\":{\"formatter\":{\"id\":\"1165\",\"type\":\"BasicTickFormatter\"},\"ticker\":{\"id\":\"1127\",\"type\":\"BasicTicker\"}},\"id\":\"1126\",\"type\":\"LinearAxis\"},{\"attributes\":{},\"id\":\"1131\",\"type\":\"PanTool\"},{\"attributes\":{\"callback\":null,\"tooltips\":[[\"token\",\"@token\"]]},\"id\":\"1149\",\"type\":\"HoverTool\"},{\"attributes\":{\"active_drag\":\"auto\",\"active_inspect\":\"auto\",\"active_multi\":null,\"active_scroll\":{\"id\":\"1132\",\"type\":\"WheelZoomTool\"},\"active_tap\":\"auto\",\"tools\":[{\"id\":\"1131\",\"type\":\"PanTool\"},{\"id\":\"1132\",\"type\":\"WheelZoomTool\"},{\"id\":\"1133\",\"type\":\"BoxZoomTool\"},{\"id\":\"1134\",\"type\":\"SaveTool\"},{\"id\":\"1135\",\"type\":\"ResetTool\"},{\"id\":\"1136\",\"type\":\"HelpTool\"},{\"id\":\"1149\",\"type\":\"HoverTool\"}]},\"id\":\"1137\",\"type\":\"Toolbar\"},{\"attributes\":{},\"id\":\"1167\",\"type\":\"UnionRenderers\"},{\"attributes\":{\"dimension\":1,\"ticker\":{\"id\":\"1127\",\"type\":\"BasicTicker\"}},\"id\":\"1130\",\"type\":\"Grid\"}],\"root_ids\":[\"1112\"]},\"title\":\"Bokeh Application\",\"version\":\"1.2.0\"}};\n",
       "  var render_items = [{\"docid\":\"d51af0bf-6848-41ca-af79-9e392d8afc15\",\"roots\":{\"1112\":\"4cb9a9b8-292c-48ac-a062-e9ee9813706e\"}}];\n",
       "  root.Bokeh.embed.embed_items_notebook(docs_json, render_items);\n",
       "\n",
       "  }\n",
       "  if (root.Bokeh !== undefined) {\n",
       "    embed_document(root);\n",
       "  } else {\n",
       "    var attempts = 0;\n",
       "    var timer = setInterval(function(root) {\n",
       "      if (root.Bokeh !== undefined) {\n",
       "        embed_document(root);\n",
       "        clearInterval(timer);\n",
       "      }\n",
       "      attempts++;\n",
       "      if (attempts > 100) {\n",
       "        console.log(\"Bokeh: ERROR: Unable to run BokehJS code because BokehJS library is missing\");\n",
       "        clearInterval(timer);\n",
       "      }\n",
       "    }, 10, root)\n",
       "  }\n",
       "})(window);"
      ],
      "application/vnd.bokehjs_exec.v0+json": ""
     },
     "metadata": {
      "application/vnd.bokehjs_exec.v0+json": {
       "id": "1112"
      }
     },
     "output_type": "display_data"
    },
    {
     "data": {
      "text/html": [
       "<div style=\"display: table;\"><div style=\"display: table-row;\"><div style=\"display: table-cell;\"><b title=\"bokeh.plotting.figure.Figure\">Figure</b>(</div><div style=\"display: table-cell;\">id&nbsp;=&nbsp;'1112', <span id=\"1224\" style=\"cursor: pointer;\">&hellip;)</span></div></div><div class=\"1223\" style=\"display: none;\"><div style=\"display: table-cell;\"></div><div style=\"display: table-cell;\">above&nbsp;=&nbsp;[],</div></div><div class=\"1223\" style=\"display: none;\"><div style=\"display: table-cell;\"></div><div style=\"display: table-cell;\">align&nbsp;=&nbsp;'start',</div></div><div class=\"1223\" style=\"display: none;\"><div style=\"display: table-cell;\"></div><div style=\"display: table-cell;\">aspect_ratio&nbsp;=&nbsp;None,</div></div><div class=\"1223\" style=\"display: none;\"><div style=\"display: table-cell;\"></div><div style=\"display: table-cell;\">aspect_scale&nbsp;=&nbsp;1,</div></div><div class=\"1223\" style=\"display: none;\"><div style=\"display: table-cell;\"></div><div style=\"display: table-cell;\">background&nbsp;=&nbsp;None,</div></div><div class=\"1223\" style=\"display: none;\"><div style=\"display: table-cell;\"></div><div style=\"display: table-cell;\">background_fill_alpha&nbsp;=&nbsp;{'value': 1.0},</div></div><div class=\"1223\" style=\"display: none;\"><div style=\"display: table-cell;\"></div><div style=\"display: table-cell;\">background_fill_color&nbsp;=&nbsp;{'value': '#ffffff'},</div></div><div class=\"1223\" style=\"display: none;\"><div style=\"display: table-cell;\"></div><div style=\"display: table-cell;\">below&nbsp;=&nbsp;[LinearAxis(id='1121', ...)],</div></div><div class=\"1223\" style=\"display: none;\"><div style=\"display: table-cell;\"></div><div style=\"display: table-cell;\">border_fill_alpha&nbsp;=&nbsp;{'value': 1.0},</div></div><div class=\"1223\" style=\"display: none;\"><div style=\"display: table-cell;\"></div><div style=\"display: table-cell;\">border_fill_color&nbsp;=&nbsp;{'value': '#ffffff'},</div></div><div class=\"1223\" style=\"display: none;\"><div style=\"display: table-cell;\"></div><div style=\"display: table-cell;\">center&nbsp;=&nbsp;[Grid(id='1125', ...), Grid(id='1130', ...)],</div></div><div class=\"1223\" style=\"display: none;\"><div style=\"display: table-cell;\"></div><div style=\"display: table-cell;\">css_classes&nbsp;=&nbsp;[],</div></div><div class=\"1223\" style=\"display: none;\"><div style=\"display: table-cell;\"></div><div style=\"display: table-cell;\">disabled&nbsp;=&nbsp;False,</div></div><div class=\"1223\" style=\"display: none;\"><div style=\"display: table-cell;\"></div><div style=\"display: table-cell;\">extra_x_ranges&nbsp;=&nbsp;{},</div></div><div class=\"1223\" style=\"display: none;\"><div style=\"display: table-cell;\"></div><div style=\"display: table-cell;\">extra_y_ranges&nbsp;=&nbsp;{},</div></div><div class=\"1223\" style=\"display: none;\"><div style=\"display: table-cell;\"></div><div style=\"display: table-cell;\">frame_height&nbsp;=&nbsp;None,</div></div><div class=\"1223\" style=\"display: none;\"><div style=\"display: table-cell;\"></div><div style=\"display: table-cell;\">frame_width&nbsp;=&nbsp;None,</div></div><div class=\"1223\" style=\"display: none;\"><div style=\"display: table-cell;\"></div><div style=\"display: table-cell;\">height&nbsp;=&nbsp;None,</div></div><div class=\"1223\" style=\"display: none;\"><div style=\"display: table-cell;\"></div><div style=\"display: table-cell;\">height_policy&nbsp;=&nbsp;'auto',</div></div><div class=\"1223\" style=\"display: none;\"><div style=\"display: table-cell;\"></div><div style=\"display: table-cell;\">hidpi&nbsp;=&nbsp;True,</div></div><div class=\"1223\" style=\"display: none;\"><div style=\"display: table-cell;\"></div><div style=\"display: table-cell;\">js_event_callbacks&nbsp;=&nbsp;{},</div></div><div class=\"1223\" style=\"display: none;\"><div style=\"display: table-cell;\"></div><div style=\"display: table-cell;\">js_property_callbacks&nbsp;=&nbsp;{},</div></div><div class=\"1223\" style=\"display: none;\"><div style=\"display: table-cell;\"></div><div style=\"display: table-cell;\">left&nbsp;=&nbsp;[LinearAxis(id='1126', ...)],</div></div><div class=\"1223\" style=\"display: none;\"><div style=\"display: table-cell;\"></div><div style=\"display: table-cell;\">lod_factor&nbsp;=&nbsp;10,</div></div><div class=\"1223\" style=\"display: none;\"><div style=\"display: table-cell;\"></div><div style=\"display: table-cell;\">lod_interval&nbsp;=&nbsp;300,</div></div><div class=\"1223\" style=\"display: none;\"><div style=\"display: table-cell;\"></div><div style=\"display: table-cell;\">lod_threshold&nbsp;=&nbsp;2000,</div></div><div class=\"1223\" style=\"display: none;\"><div style=\"display: table-cell;\"></div><div style=\"display: table-cell;\">lod_timeout&nbsp;=&nbsp;500,</div></div><div class=\"1223\" style=\"display: none;\"><div style=\"display: table-cell;\"></div><div style=\"display: table-cell;\">margin&nbsp;=&nbsp;(0, 0, 0, 0),</div></div><div class=\"1223\" style=\"display: none;\"><div style=\"display: table-cell;\"></div><div style=\"display: table-cell;\">match_aspect&nbsp;=&nbsp;False,</div></div><div class=\"1223\" style=\"display: none;\"><div style=\"display: table-cell;\"></div><div style=\"display: table-cell;\">max_height&nbsp;=&nbsp;None,</div></div><div class=\"1223\" style=\"display: none;\"><div style=\"display: table-cell;\"></div><div style=\"display: table-cell;\">max_width&nbsp;=&nbsp;None,</div></div><div class=\"1223\" style=\"display: none;\"><div style=\"display: table-cell;\"></div><div style=\"display: table-cell;\">min_border&nbsp;=&nbsp;5,</div></div><div class=\"1223\" style=\"display: none;\"><div style=\"display: table-cell;\"></div><div style=\"display: table-cell;\">min_border_bottom&nbsp;=&nbsp;None,</div></div><div class=\"1223\" style=\"display: none;\"><div style=\"display: table-cell;\"></div><div style=\"display: table-cell;\">min_border_left&nbsp;=&nbsp;None,</div></div><div class=\"1223\" style=\"display: none;\"><div style=\"display: table-cell;\"></div><div style=\"display: table-cell;\">min_border_right&nbsp;=&nbsp;None,</div></div><div class=\"1223\" style=\"display: none;\"><div style=\"display: table-cell;\"></div><div style=\"display: table-cell;\">min_border_top&nbsp;=&nbsp;None,</div></div><div class=\"1223\" style=\"display: none;\"><div style=\"display: table-cell;\"></div><div style=\"display: table-cell;\">min_height&nbsp;=&nbsp;None,</div></div><div class=\"1223\" style=\"display: none;\"><div style=\"display: table-cell;\"></div><div style=\"display: table-cell;\">min_width&nbsp;=&nbsp;None,</div></div><div class=\"1223\" style=\"display: none;\"><div style=\"display: table-cell;\"></div><div style=\"display: table-cell;\">name&nbsp;=&nbsp;None,</div></div><div class=\"1223\" style=\"display: none;\"><div style=\"display: table-cell;\"></div><div style=\"display: table-cell;\">outline_line_alpha&nbsp;=&nbsp;{'value': 1.0},</div></div><div class=\"1223\" style=\"display: none;\"><div style=\"display: table-cell;\"></div><div style=\"display: table-cell;\">outline_line_cap&nbsp;=&nbsp;'butt',</div></div><div class=\"1223\" style=\"display: none;\"><div style=\"display: table-cell;\"></div><div style=\"display: table-cell;\">outline_line_color&nbsp;=&nbsp;{'value': '#e5e5e5'},</div></div><div class=\"1223\" style=\"display: none;\"><div style=\"display: table-cell;\"></div><div style=\"display: table-cell;\">outline_line_dash&nbsp;=&nbsp;[],</div></div><div class=\"1223\" style=\"display: none;\"><div style=\"display: table-cell;\"></div><div style=\"display: table-cell;\">outline_line_dash_offset&nbsp;=&nbsp;0,</div></div><div class=\"1223\" style=\"display: none;\"><div style=\"display: table-cell;\"></div><div style=\"display: table-cell;\">outline_line_join&nbsp;=&nbsp;'bevel',</div></div><div class=\"1223\" style=\"display: none;\"><div style=\"display: table-cell;\"></div><div style=\"display: table-cell;\">outline_line_width&nbsp;=&nbsp;{'value': 1},</div></div><div class=\"1223\" style=\"display: none;\"><div style=\"display: table-cell;\"></div><div style=\"display: table-cell;\">output_backend&nbsp;=&nbsp;'canvas',</div></div><div class=\"1223\" style=\"display: none;\"><div style=\"display: table-cell;\"></div><div style=\"display: table-cell;\">plot_height&nbsp;=&nbsp;400,</div></div><div class=\"1223\" style=\"display: none;\"><div style=\"display: table-cell;\"></div><div style=\"display: table-cell;\">plot_width&nbsp;=&nbsp;600,</div></div><div class=\"1223\" style=\"display: none;\"><div style=\"display: table-cell;\"></div><div style=\"display: table-cell;\">renderers&nbsp;=&nbsp;[GlyphRenderer(id='1147', ...)],</div></div><div class=\"1223\" style=\"display: none;\"><div style=\"display: table-cell;\"></div><div style=\"display: table-cell;\">reset_policy&nbsp;=&nbsp;'standard',</div></div><div class=\"1223\" style=\"display: none;\"><div style=\"display: table-cell;\"></div><div style=\"display: table-cell;\">right&nbsp;=&nbsp;[],</div></div><div class=\"1223\" style=\"display: none;\"><div style=\"display: table-cell;\"></div><div style=\"display: table-cell;\">sizing_mode&nbsp;=&nbsp;None,</div></div><div class=\"1223\" style=\"display: none;\"><div style=\"display: table-cell;\"></div><div style=\"display: table-cell;\">subscribed_events&nbsp;=&nbsp;[],</div></div><div class=\"1223\" style=\"display: none;\"><div style=\"display: table-cell;\"></div><div style=\"display: table-cell;\">tags&nbsp;=&nbsp;[],</div></div><div class=\"1223\" style=\"display: none;\"><div style=\"display: table-cell;\"></div><div style=\"display: table-cell;\">title&nbsp;=&nbsp;Title(id='1160', ...),</div></div><div class=\"1223\" style=\"display: none;\"><div style=\"display: table-cell;\"></div><div style=\"display: table-cell;\">title_location&nbsp;=&nbsp;'above',</div></div><div class=\"1223\" style=\"display: none;\"><div style=\"display: table-cell;\"></div><div style=\"display: table-cell;\">toolbar&nbsp;=&nbsp;Toolbar(id='1137', ...),</div></div><div class=\"1223\" style=\"display: none;\"><div style=\"display: table-cell;\"></div><div style=\"display: table-cell;\">toolbar_location&nbsp;=&nbsp;'right',</div></div><div class=\"1223\" style=\"display: none;\"><div style=\"display: table-cell;\"></div><div style=\"display: table-cell;\">toolbar_sticky&nbsp;=&nbsp;True,</div></div><div class=\"1223\" style=\"display: none;\"><div style=\"display: table-cell;\"></div><div style=\"display: table-cell;\">visible&nbsp;=&nbsp;True,</div></div><div class=\"1223\" style=\"display: none;\"><div style=\"display: table-cell;\"></div><div style=\"display: table-cell;\">width&nbsp;=&nbsp;None,</div></div><div class=\"1223\" style=\"display: none;\"><div style=\"display: table-cell;\"></div><div style=\"display: table-cell;\">width_policy&nbsp;=&nbsp;'auto',</div></div><div class=\"1223\" style=\"display: none;\"><div style=\"display: table-cell;\"></div><div style=\"display: table-cell;\">x_range&nbsp;=&nbsp;DataRange1d(id='1113', ...),</div></div><div class=\"1223\" style=\"display: none;\"><div style=\"display: table-cell;\"></div><div style=\"display: table-cell;\">x_scale&nbsp;=&nbsp;LinearScale(id='1117', ...),</div></div><div class=\"1223\" style=\"display: none;\"><div style=\"display: table-cell;\"></div><div style=\"display: table-cell;\">y_range&nbsp;=&nbsp;DataRange1d(id='1115', ...),</div></div><div class=\"1223\" style=\"display: none;\"><div style=\"display: table-cell;\"></div><div style=\"display: table-cell;\">y_scale&nbsp;=&nbsp;LinearScale(id='1119', ...))</div></div></div>\n",
       "<script>\n",
       "(function() {\n",
       "  var expanded = false;\n",
       "  var ellipsis = document.getElementById(\"1224\");\n",
       "  ellipsis.addEventListener(\"click\", function() {\n",
       "    var rows = document.getElementsByClassName(\"1223\");\n",
       "    for (var i = 0; i < rows.length; i++) {\n",
       "      var el = rows[i];\n",
       "      el.style.display = expanded ? \"none\" : \"table-row\";\n",
       "    }\n",
       "    ellipsis.innerHTML = expanded ? \"&hellip;)\" : \"&lsaquo;&lsaquo;&lsaquo;\";\n",
       "    expanded = !expanded;\n",
       "  });\n",
       "})();\n",
       "</script>\n"
      ],
      "text/plain": [
       "Figure(id='1112', ...)"
      ]
     },
     "execution_count": 108,
     "metadata": {},
     "output_type": "execute_result"
    }
   ],
   "source": [
    "draw_vectors(word_tsne[:, 0], word_tsne[:, 1], color='green', token=words)"
   ]
  },
  {
   "cell_type": "code",
   "execution_count": null,
   "metadata": {},
   "outputs": [],
   "source": []
  }
 ],
 "metadata": {
  "kernelspec": {
   "display_name": "Py3 research env",
   "language": "python",
   "name": "py3_research"
  },
  "language_info": {
   "codemirror_mode": {
    "name": "ipython",
    "version": 3
   },
   "file_extension": ".py",
   "mimetype": "text/x-python",
   "name": "python",
   "nbconvert_exporter": "python",
   "pygments_lexer": "ipython3",
   "version": "3.6.7"
  }
 },
 "nbformat": 4,
 "nbformat_minor": 2
}
